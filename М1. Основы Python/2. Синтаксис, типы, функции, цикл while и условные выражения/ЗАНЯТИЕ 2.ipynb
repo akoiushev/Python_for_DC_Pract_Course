{
 "cells": [
  {
   "cell_type": "markdown",
   "id": "9d86512a",
   "metadata": {},
   "source": [
    "# ЗАНЯТИЕ 2. Основы Python: синтаксис, типы, функции, цикл while и условные выражения[1]\n",
    "\n",
    "[1] <span>&#9757;&#128578;</span> Данное занятие разработано на основе блокнотов из англоязычного источника [7].\n",
    "\n",
    "## Цели занятия\n",
    "\n",
    "Получение базовых знаний по основам языка программирования `Python`: базовый синтаксис, типы данных, функции, циклы, условные выражения. Изучение основных принципов практической работы с ними.\n",
    "\n",
    "## Порядок выполнения работы\n",
    "\n",
    "Выполнение текущего и всех дальнейших занятий необходимо выполнять в блокнотах в `JupyterLab.`\n",
    "\n",
    "На предыдущем занятии упоминалось использование функции print() для вывода произвольного текста. Что такое понятие «функция» будет рассмотрено позже в ходе этого занятия. Сейчас давайте посмотрим на полный синтаксис этой функции, т.е. на её набор параметров:\n",
    "\n",
    "```python\n",
    "print(*objects, sep=’ ‘, end=’n’, file=sys.stdout, flush=False)\n",
    "```\n",
    "\n",
    "где:\n",
    "\n",
    "-   `objects` – объект, который нужно вывести. Символ звезды «*» обозначает, что объектов может быть несколько;\n",
    "\n",
    "-   `sep` – разделяет объекты. Значение по умолчанию: «’ ’», т.е. выводимые объекты будут разделены пробелом;\n",
    "\n",
    "-   `end` – ставится после всех объектов;\n",
    "\n",
    "-   `file` – ожидается объект с методом `write (string)`. Если значение не задано, для вывода объектов используется файл sys.stdout, т.е. системный вывод (терминал, консоль или ячейка `Jupyter Notebook`);\n",
    "\n",
    "-   `flush` – если задано значение `True`, поток принудительно сбрасывается в файл. Значение по умолчанию: `False`. Примечание: `sep`, `end`, `file` и `flush` – это аргументы-ключевые слова. Если хотите воспользоваться аргументом `sep`, используйте: «`print(*objects, sep = ‘separator’)»`, а не «`print(*objects, ‘separator’)»`.\n",
    "\n",
    "Описанное выше (синтаксис функции) является отрывком из документации на неё в сети Интернет. Из этого отрывка, мы можем сделать вывод, что возможна печатать несколько значений сразу, если передать их функции `print()` с разделением через запятые, например, выполнив представленный ниже код интерпретатор `Python` нам выведет три числа (Рис. 1), разделенные разделителем по умолчанию, которым является знак пробел."
   ]
  },
  {
   "cell_type": "code",
   "execution_count": 1,
   "id": "9c9a9a13",
   "metadata": {},
   "outputs": [
    {
     "name": "stdout",
     "output_type": "stream",
     "text": [
      "1 2 3\n"
     ]
    }
   ],
   "source": [
    "print(1,2,3)  "
   ]
  },
  {
   "attachments": {
    "a612130b-732d-4512-95de-0c7fc95c59f9.png": {
     "image/png": "[encoded data removed]"
    }
   },
   "cell_type": "markdown",
   "id": "5a9bf31c",
   "metadata": {},
   "source": [
    "![image1.png](attachment:a612130b-732d-4512-95de-0c7fc95c59f9.png)\n",
    "\n",
    "Рис. 1. Результат работы `print(1,2,3)`\n",
    "\n",
    "«`In`» в переводе с англ. – «ввод», а «`out`» – «вывод», т.е. введя и выполняя команду «`print(1,2,3)`» мы увидим результат её выполнения «`1 2 3`». Далее большинство выполняемого кода будет представлено именно в таком формате. Код из секции «<span custom-style=\"код Знак\">In</span>» вам необходимо выполнять у себя на компьютере и сравнивать полученный результат с представленным в данной книге.\n",
    "\n",
    "Число в квадратных скобках (см. «`In [1]:`») – это порядковый номер водимой команды. Т.е. номер 1 означает, что это первая команда по счету, которую уже выполняли в данном `Jupyter` блокноте. Этот номер ни на что не влияет. Если номер не указан, значит ячейка не выполнялась, а если указано «`In [*]:`», значит команда ещё выполняется. Чтобы сбросить результат выполнения, можно сбросить ядро «`Kernel→Restart Kernel and Clear All Outputs`» из меню сверху.\n",
    "\n",
    "Попробуйте изменить разделитель «`sep»` и набор завершающих символов «`end»`:"
   ]
  },
  {
   "cell_type": "code",
   "execution_count": 2,
   "id": "6128eddc",
   "metadata": {},
   "outputs": [
    {
     "name": "stdout",
     "output_type": "stream",
     "text": [
      "1_2_3\n",
      "конец"
     ]
    }
   ],
   "source": [
    "print(1,2,3, sep='_', end='\\nконец') #n - спец символ перевода строки  "
   ]
  },
  {
   "cell_type": "markdown",
   "id": "7b5210c2",
   "metadata": {},
   "source": [
    "### Математика в Python\n",
    "\n",
    "Самый простой способ использовать `Python` для вычислений, это выполнить команду, представленную ниже. Попробуйте, используя полученную информацию сложить два других числа, например `20+80`."
   ]
  },
  {
   "cell_type": "code",
   "execution_count": 3,
   "id": "afeefe7b",
   "metadata": {},
   "outputs": [
    {
     "data": {
      "text/plain": [
       "2"
      ]
     },
     "execution_count": 3,
     "metadata": {},
     "output_type": "execute_result"
    }
   ],
   "source": [
    "1 + 1  "
   ]
  },
  {
   "cell_type": "markdown",
   "id": "fbb0bbaf",
   "metadata": {},
   "source": [
    "Только что была рассмотрена операция «сложение» – одна из доступных арифметических операций в `Python`. В таблицах ниже представлены некоторые математические операторы и функции (Таблица 1) и операторы присваивания (Таблица 2).\n",
    "\n",
    "Таблица 1. Математические операторы и функции\n",
    "\n",
    "<table>\n",
    "<colgroup>\n",
    "<col style=\"width: 25%\" />\n",
    "<col style=\"width: 41%\" />\n",
    "<col style=\"width: 32%\" />\n",
    "</colgroup>\n",
    "<thead>\n",
    "<tr class=\"header\">\n",
    "<th>\n",
    "<p>\n",
    "    \n",
    "Оператор или функция\n",
    "\n",
    "</p>\n",
    "\n",
    "</th>\n",
    "<th>\n",
    "\n",
    "Описание\n",
    "\n",
    "</th>\n",
    "<th>\n",
    "\n",
    "Пример\n",
    "\n",
    "</th>\n",
    "</tr>\n",
    "</thead>\n",
    "<tbody>\n",
    "<tr class=\"odd\">\n",
    "<td>\n",
    "\n",
    "<p>\n",
    "\n",
    "+,-,*,/\n",
    "\n",
    "</p>\n",
    "\n",
    "</td>\n",
    "<td>\n",
    "\n",
    "Сложение, вычитание, умножение, деление\n",
    "\n",
    "</td>\n",
    "<td>\n",
    "\n",
    "<p>\n",
    "\n",
    "10 + 21 = 31\n",
    "\n",
    "</p>\n",
    "\n",
    "</td>\n",
    "</tr>\n",
    "<tr class=\"even\">\n",
    "<td>\n",
    "\n",
    "<p>\n",
    "\n",
    "%\n",
    "\n",
    "</p>\n",
    "\n",
    "</td>\n",
    "<td>\n",
    "\n",
    "Деление с остатком. Делит левый операнд на правый операнд и возвращает остаток\n",
    "\n",
    "</td>\n",
    "<td>\n",
    "\n",
    "<p>\n",
    "\n",
    "21 % 10 = 1\n",
    "\n",
    "</p>\n",
    "\n",
    "</td>\n",
    "</tr>\n",
    "<tr class=\"odd\">\n",
    "<td>\n",
    "\n",
    "<p>\n",
    "\n",
    "**\n",
    "\n",
    "</p>\n",
    "\n",
    "</td>\n",
    "<td>\n",
    "\n",
    "Возведение в степень\n",
    "\n",
    "</td>\n",
    "<td>\n",
    "\n",
    "<p>\n",
    "\n",
    "а ** b, т.е. возвести а в степень b\n",
    "\n",
    "</p>\n",
    "\n",
    "</td>\n",
    "</tr>\n",
    "<tr class=\"even\">\n",
    "<td>\n",
    "\n",
    "<p>\n",
    "\n",
    "//\n",
    "\n",
    "</p>\n",
    "\n",
    "</td>\n",
    "<td>\n",
    "\n",
    "Деление с округлением вниз (до ближайшего меньшего)\n",
    "\n",
    "</td>\n",
    "<td>\n",
    "\n",
    "<p>\n",
    "\n",
    "9 // 2 = 4,\n",
    "\n",
    "</p>\n",
    "\n",
    "<p>\n",
    "\n",
    "9,0 // 2,0 = 4,0,\n",
    "\n",
    "</p>\n",
    "\n",
    "<p>\n",
    "\n",
    "-11,0 // 3 = -4,0\n",
    "\n",
    "</p>\n",
    "\n",
    "</td>\n",
    "</tr>\n",
    "<tr class=\"odd\">\n",
    "<td>\n",
    "\n",
    "<p>\n",
    "\n",
    "divmod(X,Y)\n",
    "\n",
    "</p>\n",
    "\n",
    "</td>\n",
    "<td>\n",
    "\n",
    "Возвращает пару частное-остаток от деления аргументов.\n",
    "\n",
    "</td>\n",
    "<td>\n",
    "\n",
    "<p>\n",
    "\n",
    "divmod(9, 4) = (2, 1)\n",
    "\n",
    "</p>\n",
    "\n",
    "</td>\n",
    "</tr>\n",
    "<tr class=\"even\">\n",
    "<td>\n",
    "\n",
    "<p>\n",
    "\n",
    "abs(X)\n",
    "\n",
    "</p>\n",
    "\n",
    "</td>\n",
    "<td>\n",
    "\n",
    "Возвращает модуль числа\n",
    "\n",
    "</td>\n",
    "<td>\n",
    "\n",
    "<p>\n",
    "\n",
    "abs(-5)=5\n",
    "\n",
    "</p>\n",
    "\n",
    "</td>\n",
    "</tr>\n",
    "<tr class=\"odd\">\n",
    "<td>\n",
    "\n",
    "<p>\n",
    "\n",
    "x.is_integer()\n",
    "\n",
    "</p>\n",
    "\n",
    "</td>\n",
    "<td>\n",
    "\n",
    "Проверяет целочисленное ли чисто или вещественное\n",
    "\n",
    "</td>\n",
    "<td>\n",
    "\n",
    "<p>\n",
    "\n",
    "x=2.59\n",
    "\n",
    "</p>\n",
    "\n",
    "<p>\n",
    "\n",
    "x.is_integer() = ложь\n",
    "\n",
    "</p>\n",
    "\n",
    "</td>\n",
    "</tr>\n",
    "<tr class=\"even\">\n",
    "<td>\n",
    "\n",
    "<p>\n",
    "\n",
    "bin(x)\n",
    "\n",
    "</p>\n",
    "\n",
    "</td>\n",
    "<td>\n",
    "\n",
    "Преобразование целого числа в двоичное\n",
    "\n",
    "</td>\n",
    "<td>\n",
    "\n",
    "<p>\n",
    "\n",
    "bin(8)= ‘0b1000’\n",
    "\n",
    "</p>\n",
    "\n",
    "</td>\n",
    "</tr>\n",
    "</tbody>\n",
    "</table>\n",
    "\n",
    "Таблица 2. Операторы присваивания\n",
    "\n",
    "<table>\n",
    "<colgroup>\n",
    "<col style=\"width: 15%\" />\n",
    "<col style=\"width: 48%\" />\n",
    "<col style=\"width: 35%\" />\n",
    "</colgroup>\n",
    "<thead>\n",
    "<tr class=\"header\">\n",
    "<th>\n",
    "\n",
    "Оператор\n",
    "\n",
    "</th>\n",
    "<th>\n",
    "\n",
    "Описание\n",
    "\n",
    "</th>\n",
    "<th>\n",
    "\n",
    "Примеры\n",
    "\n",
    "</th>\n",
    "</tr>\n",
    "</thead>\n",
    "<tbody>\n",
    "<tr class=\"odd\">\n",
    "<td>\n",
    "\n",
    "<p>\n",
    "\n",
    "=\n",
    "\n",
    "</p>\n",
    "\n",
    "</td>\n",
    "<td>\n",
    "\n",
    "Присваивает значение правого операнда левому.\n",
    "\n",
    "</td>\n",
    "<td>\n",
    "\n",
    "<p>\n",
    "\n",
    "c = 23 присвоит переменной с значение 23\n",
    "\n",
    "</p>\n",
    "\n",
    "</td>\n",
    "</tr>\n",
    "<tr class=\"even\">\n",
    "<td>\n",
    "\n",
    "<p>\n",
    "\n",
    "+=\n",
    "\n",
    "</p>\n",
    "\n",
    "<p>\n",
    "\n",
    "и так же:\n",
    "\n",
    "</p>\n",
    "\n",
    "<p>\n",
    "\n",
    "-=,\n",
    "\n",
    "</p>\n",
    "\n",
    "<p>\n",
    "\n",
    "*=,\n",
    "\n",
    "</p>\n",
    "\n",
    "<p>\n",
    "\n",
    "/=,\n",
    "\n",
    "</p>\n",
    "\n",
    "<p>\n",
    "\n",
    "%=,\n",
    "\n",
    "</p>\n",
    "\n",
    "<p>\n",
    "\n",
    "**=,\n",
    "\n",
    "</p>\n",
    "\n",
    "<p>\n",
    "\n",
    "//=\n",
    "\n",
    "</p>\n",
    "\n",
    "</td>\n",
    "<td>\n",
    "<p>\n",
    "\n",
    "Прибавит значение правого операнда к левому и присвоит эту сумму левому операнду.\n",
    "\n",
    "</p>\n",
    "<p>\n",
    "\n",
    "Аналогичное доступно для всех других математических операторов.\n",
    "\n",
    "</p>\n",
    "</td>\n",
    "<td>\n",
    "\n",
    "<p>\n",
    "\n",
    "с = 5<br /> а = 2<br /> с += а равносильно: с = с + а. с будет равно 7\n",
    "\n",
    "</p>\n",
    "\n",
    "</td>\n",
    "</tr>\n",
    "</tbody>\n",
    "</table>\n",
    "\n",
    "Попробуйте выполнить некоторые представленные выше операции. Например, нахождение остатка от деления при помощи оператора `«%»`:"
   ]
  },
  {
   "cell_type": "code",
   "execution_count": 4,
   "id": "fe83f048",
   "metadata": {},
   "outputs": [
    {
     "data": {
      "text/plain": [
       "2"
      ]
     },
     "execution_count": 4,
     "metadata": {},
     "output_type": "execute_result"
    }
   ],
   "source": [
    "23 % 3"
   ]
  },
  {
   "cell_type": "markdown",
   "id": "385c2c16",
   "metadata": {},
   "source": [
    "Количество выполняемых математических операций может быть расширено при помощи использования функций из большого числа доступных `Python` библиотек, например – можно пользоваться и другими, обычно более сложными операциями – такими, как перемножение матриц и так далее.\n",
    "\n",
    "### Порядок операций\n",
    "\n",
    "Порядок операций в `Python` можно задавать при помощи круглых скобок. Ниже представлен пример их использования. Попробуйте убрать скобки и посмотреть на результат."
   ]
  },
  {
   "cell_type": "code",
   "execution_count": 5,
   "id": "5bfffc81",
   "metadata": {},
   "outputs": [
    {
     "data": {
      "text/plain": [
       "9"
      ]
     },
     "execution_count": 5,
     "metadata": {},
     "output_type": "execute_result"
    }
   ],
   "source": [
    "(1 + 2) * 3  "
   ]
  },
  {
   "cell_type": "markdown",
   "id": "89b0d507",
   "metadata": {},
   "source": [
    "### Комментарии\n",
    "\n",
    "Комментарии – это пояснения к исходному тексту программы, находящиеся непосредственно внутри комментируемого кода. Синтаксис комментариев определяется языком программирования. С точки зрения компилятора или интерпретатора, комментарии – часть текста программы, не влияющая на её семантику. Комментарии не оказывают никакого влияния на результат компиляции программы или её интерпретацию.\n",
    "\n",
    "Выполните следующие три строчки:"
   ]
  },
  {
   "cell_type": "code",
   "execution_count": 6,
   "id": "ec933bf1",
   "metadata": {},
   "outputs": [
    {
     "name": "stdout",
     "output_type": "stream",
     "text": [
      "Мир\n"
     ]
    }
   ],
   "source": [
    "# Строчка ниже закомментирована и не выполнится  \n",
    "# print(\"Привет\")  \n",
    "print(\"Мир\")  "
   ]
  },
  {
   "cell_type": "markdown",
   "id": "6af9019f",
   "metadata": {},
   "source": [
    "и вы увидите, что выполнится только «print(“Мир”)», а «# print(“Привет”)» не выполнится, так как является комментарием. Все, что идет после знака решетки ­­­и до конца строки – это комментарий. Не обязательно комментировать всю строку, можно оставить комментарий правее от кода.\n",
    "\n",
    "Для многострочных комментариев, которые обычно используются как строки документации в коде, в `Python` можно использовать следующую конструкцию:"
   ]
  },
  {
   "cell_type": "code",
   "execution_count": 7,
   "id": "0edffcf2",
   "metadata": {},
   "outputs": [
    {
     "name": "stdout",
     "output_type": "stream",
     "text": [
      "Мир\n"
     ]
    }
   ],
   "source": [
    "\"\"\"  \n",
    "Это строковый литерал. Он часто используется как многострочный комментарий  \n",
    "\"\"\"  \n",
    "print(\"Мир\")  "
   ]
  },
  {
   "cell_type": "markdown",
   "id": "48a1bf61",
   "metadata": {},
   "source": [
    "Посмотрим на исходный код, которой представлен ниже. Вы бы могли его вынести (или экспортировать) в отдельный файл, который назвать, например, «`Есенин.py»` и запускать эту программу без `Jupyter` или `PyCharm,` а используя только `Python` интерпретатор."
   ]
  },
  {
   "cell_type": "code",
   "execution_count": 8,
   "id": "a4b9f8e2",
   "metadata": {},
   "outputs": [
    {
     "name": "stdout",
     "output_type": "stream",
     "text": [
      "Пой же, пой. На проклятой гитаре\n",
      "Пальцы пляшут твои в полукруг.\n",
      "Захлебнуться бы в этом угаре,\n",
      "Мой последний, единственный друг.\n"
     ]
    }
   ],
   "source": [
    "#Простая программа  \n",
    "print(\"Пой же, пой. На проклятой гитаре\")  \n",
    "print(\"Пальцы пляшут твои в полукруг.\")  \n",
    "print(\"Захлебнуться бы в этом угаре,\", end = \"\\n\")  \n",
    "print(\"Мой последний, единственный друг.\")  "
   ]
  },
  {
   "attachments": {
    "dfb12094-1e28-4142-a25e-fb8adb6852ae.png": {
     "image/png": "[encoded data removed]"
    }
   },
   "cell_type": "markdown",
   "id": "78f535ee",
   "metadata": {},
   "source": [
    "Вставьте её в ячейку `Jupyter`. Если вы запустите программу (нажатием сочетания клавиш `shift+Return,` или нажатием кнопки запуска ячейки), интерпретатор выполнит строки с 1 по 5 друг за другом и выведет результат.\n",
    "\n",
    "Стоит отметить, что, например, в среде программирования `PyCharm` автоматически появляются варианты автодополнения кода, который вы пишете (Рис. 2, так же обратите внимание на многострочные комментарии, они выделяются зеленым цветом), но в `Jupyter` для показания вариантов автоматического дополнения нужно нажать клавишу `tab`, и тогда вам либо будут предложены варианты дополнения, либо произойдет автоматическая вставка. Например, если вы напишете `«pri»` и нажмёте клавишу `tab`, то произойдет автоматическая вставка слова `«print»`.\n",
    "\n",
    "![image2.png](attachment:dfb12094-1e28-4142-a25e-fb8adb6852ae.png)\n",
    "\n",
    "Рис. 2. Подсветка синтаксиса в `PyCharm`\n",
    "\n",
    "Вернемся к «программе `Есенин.py»`. В строке 4 параметр end =“n”, передающийся фукнции print(), настраивает её таким образом, чтобы она вставляла спец символ перевода строки n, который отвечает за действие в конце выполнения этой функции. Хотя она и так по умолчанию переводит строку на новую, но для наглядности это сообщено вам. Вы можете, например, вставить пробел вместо перевода строки."
   ]
  },
  {
   "cell_type": "code",
   "execution_count": 9,
   "id": "d55f4cdb",
   "metadata": {},
   "outputs": [
    {
     "name": "stdout",
     "output_type": "stream",
     "text": [
      "Захлебнуться бы в этом угаре, Мой последний, единственный друг.\n"
     ]
    }
   ],
   "source": [
    "print(\"Захлебнуться бы в этом угаре,\", end = \" \")  \n",
    "print(\"Мой последний, единственный друг.\")  "
   ]
  },
  {
   "cell_type": "markdown",
   "id": "4ead6322",
   "metadata": {},
   "source": [
    "### Переменные\n",
    "\n",
    "Теперь давайте начнем вводить переменные. Переменные хранят значение, которое можно просмотреть или изменить позже. Создадим программу, использующую переменные. Запустите представленный ниже код и попробуйте разобраться в результатах его работы:"
   ]
  },
  {
   "cell_type": "code",
   "execution_count": 10,
   "id": "a9518cd4",
   "metadata": {},
   "outputs": [
    {
     "name": "stdout",
     "output_type": "stream",
     "text": [
      "Эта программа представляет собой демонстрацию переменных\n",
      "Сейчас значение v:  1\n",
      "v теперь равно самому себе плюс один, что делает его равным  2\n",
      "v может хранить любое числовое значение для использования в другом месте.\n",
      "например, в предложении. v теперь равно  51\n",
      "v умножить на 5 равно 255\n",
      "но само v все еще остается равно 51\n",
      "чтобы увеличить v в пять раз, нужно набрать v = v * 5\n",
      "вот так, теперь v равно 255 а не  51.0\n"
     ]
    }
   ],
   "source": [
    "#демонстрация переменных  \n",
    "print(\"Эта программа представляет собой демонстрацию переменных\")  \n",
    "v = 1  \n",
    "print(\"Сейчас значение v: \", v)  \n",
    "v = v + 1  \n",
    "print(\"v теперь равно самому себе плюс один, что делает его равным \", v)  \n",
    "v = 51  \n",
    "print(\"v может хранить любое числовое значение для использования в другом месте.\")  \n",
    "print(\"например, в предложении. v теперь равно \", v)  \n",
    "print(\"v умножить на 5 равно\", v * 5)  \n",
    "print(\"но само v все еще остается равно\", v)  \n",
    "print(\"чтобы увеличить v в пять раз, нужно набрать v = v * 5\")  \n",
    "v = v * 5  \n",
    "print(\"вот так, теперь v равно\", v, \"а не \", v / 5)  "
   ]
  },
  {
   "cell_type": "markdown",
   "id": "efaa928d",
   "metadata": {},
   "source": [
    "Обратите внимание, что мы также можем записать `v=v+1` как `v+=1`. Это можно использовать для всех операторов (например, `-=`, `*=`, `/=`). Попробуйте это в приведенном выше коде.\n",
    "\n",
    "Для названий переменных рекомендуется использовать строчные буквы или «верблюжий регистр». `CamelCase` (с англ. – «ВерблюжийРегистр», также «ГорбатыйРегистр», «СтильВерблюда») – стиль написания составных слов, при котором несколько слов пишутся слитно без пробелов, при этом каждое слово внутри фразы пишется с прописной буквы.\n",
    "\n",
    "В названии переменных нельзя использовать специальные символы или начинать названия с цифр.\n",
    "\n",
    "### Строки\n",
    "\n",
    "Переменные хранят значения для использования их при дальнейшей работе программы. Вы можете изменить их в любой момент. Однако вы можете хранить в переменных не только цифры. Переменные могут содержать, например текст.\n",
    "\n",
    "Переменная, содержащая текст, называется строкой. Попробуйте эту программу:"
   ]
  },
  {
   "cell_type": "code",
   "execution_count": 11,
   "id": "1406e1e9",
   "metadata": {},
   "outputs": [
    {
     "name": "stdout",
     "output_type": "stream",
     "text": [
      "Добрый вечер\n",
      "Добрый вечер вам!\n"
     ]
    }
   ],
   "source": [
    "#обьявление и определение строковых переменных, сложение строк  \n",
    "word1 = \"Добрый\"  \n",
    "word2 = \"вечер\"  \n",
    "word3 = \"вам!\"  \n",
    "print(word1, word2)  \n",
    "sentence = word1 + \" \" + word2 + \" \" + word3  \n",
    "print(sentence)  "
   ]
  },
  {
   "cell_type": "markdown",
   "id": "d310eee9",
   "metadata": {},
   "source": [
    "Указанные выше переменные содержали текст. Имена переменных также могут быть длиннее одной буквы – здесь у нас были слова `word1`, `word2` и `word3`.\n",
    "\n",
    "В примере выше продемонстрировано, что строки можно складывать вместе, чтобы получились более длинные слова или предложения. Тем не менее, оператор сложения не добавляет пробелов между словами – поэтому можно вставить строку, содержащую только пробел «” “» (показано в примере).\n",
    "\n",
    "Попробуйте использовать следующий код и объясните, что он делает:"
   ]
  },
  {
   "cell_type": "code",
   "execution_count": 12,
   "id": "1078a92f",
   "metadata": {},
   "outputs": [
    {
     "data": {
      "text/plain": [
       "10"
      ]
     },
     "execution_count": 12,
     "metadata": {},
     "output_type": "execute_result"
    }
   ],
   "source": [
    "text = \"abcdefghij\"  \n",
    "len(text)  "
   ]
  },
  {
   "cell_type": "markdown",
   "id": "de1e3378",
   "metadata": {},
   "source": [
    "Представленный выше код выводит количество символов в строке. А теперь попробуйте выполнить это:"
   ]
  },
  {
   "cell_type": "code",
   "execution_count": 13,
   "id": "9f87500e",
   "metadata": {},
   "outputs": [
    {
     "name": "stdout",
     "output_type": "stream",
     "text": [
      "e\n"
     ]
    }
   ],
   "source": [
    "print(text[4])  "
   ]
  },
  {
   "cell_type": "markdown",
   "id": "51558e53",
   "metadata": {},
   "source": [
    "Здесь мы хотим напечатать символ, стоящий в позиции 4. Обратите внимание, что первый символ «`a`» находится в позиции 0, потому что индексация в языке программирования `Python` начинается с нуля. Итак, позиция 4 возвращает нам букву «`е`». А теперь попробуйте:"
   ]
  },
  {
   "cell_type": "code",
   "execution_count": 14,
   "id": "59db90ba",
   "metadata": {},
   "outputs": [
    {
     "name": "stdout",
     "output_type": "stream",
     "text": [
      "abcd\n",
      "efghij\n"
     ]
    }
   ],
   "source": [
    "print(text[:4])  \n",
    "print(text[4:])  "
   ]
  },
  {
   "cell_type": "markdown",
   "id": "91901b91",
   "metadata": {},
   "source": [
    "Конструкция `[:4]` выбирает символы с индексами 0, 1, 2, 3, то есть «`abcd`». Используя оператор обрезания «двоеточие» в конструкции `[4:]` мы осуществляем выборку элементов, начинающихся с позиции с индексом 4, и до конца строки, в результате получаем вывод куска исходной строки «`efghij`». По английский обрезка – `slice`, поэтому часто результат обрезки называют «`слайс`».\n",
    "\n",
    "Мы также можем указать диапазон. Попробуйте это:"
   ]
  },
  {
   "cell_type": "code",
   "execution_count": 15,
   "id": "81e18ac3",
   "metadata": {},
   "outputs": [
    {
     "name": "stdout",
     "output_type": "stream",
     "text": [
      "efgh\n"
     ]
    }
   ],
   "source": [
    "print(text[4:8])  "
   ]
  },
  {
   "cell_type": "markdown",
   "id": "d94b6173",
   "metadata": {},
   "source": [
    "Для диапазонов максимальное значение (индекс 8 из примера выше) не включается в выборку.\n",
    "\n",
    "Отрицательные индексы означают индексацию справа-налево, а положительные классическую – слева на право.\n",
    "\n",
    "Попробуем вывести второй символ справа. А затем попробуем выбрать четвертый символ и правее (т.е. сделаем вырезку «начать с 4-го символа справа и вывести все символы от этой позиции до конца строки»)."
   ]
  },
  {
   "cell_type": "code",
   "execution_count": 16,
   "id": "070b918a",
   "metadata": {},
   "outputs": [
    {
     "name": "stdout",
     "output_type": "stream",
     "text": [
      "i\n",
      "ghij\n"
     ]
    }
   ],
   "source": [
    "#text = \"abcdefghij\"  \n",
    "print(text[-2])  \n",
    "print(text[-4:])  "
   ]
  },
  {
   "cell_type": "markdown",
   "id": "2a214d72",
   "metadata": {},
   "source": [
    "Попробуйте выполнить и понять, что делает этот код:"
   ]
  },
  {
   "cell_type": "code",
   "execution_count": 17,
   "id": "e6b996af",
   "metadata": {},
   "outputs": [
    {
     "name": "stdout",
     "output_type": "stream",
     "text": [
      "acegi\n"
     ]
    }
   ],
   "source": [
    "print(text[::2])  "
   ]
  },
  {
   "cell_type": "markdown",
   "id": "1d599bff",
   "metadata": {},
   "source": [
    "Данный код вырезает каждый второй элемент. Условно «второй», потому что по факту он вырезает каждый первый по индексу элемент, так как индексация начинается с нуля, а указывать в данной конструкции необходимо тот индекс, до которого нужно выбирать символы, не включая его.\n",
    "\n",
    "Мы также можем добавить результаты нарезки списка к переменным и вставить их в строки, используя метод `format()` (что такое метод будет рассмотрено на следующем занятии):"
   ]
  },
  {
   "cell_type": "code",
   "execution_count": 18,
   "id": "866d515b",
   "metadata": {},
   "outputs": [
    {
     "name": "stdout",
     "output_type": "stream",
     "text": [
      "В предложении есть 17 символов, а последнее слово: вам\n"
     ]
    }
   ],
   "source": [
    "nrOfCharacters = len(sentence)  \n",
    "lastWord = sentence[-4:-1]  \n",
    "print(\"В предложении есть {} символов, а последнее слово: {}\".format(nrOfCharacters,lastWord))  "
   ]
  },
  {
   "cell_type": "markdown",
   "id": "ab3ad137",
   "metadata": {},
   "source": [
    "Таким образом, вы можете легко вставлять переменные в места в строках, отмеченные оператором ассоциации «`{}`». Они будут подставлены в том же порядке, что и переменные в методе «`.format()`». Это также можно записать как:"
   ]
  },
  {
   "cell_type": "code",
   "execution_count": 19,
   "id": "2390c3ff",
   "metadata": {},
   "outputs": [
    {
     "name": "stdout",
     "output_type": "stream",
     "text": [
      "В предложении 17 букв и последнее слово: вам\n"
     ]
    }
   ],
   "source": [
    "print(f\"В предложении {nrOfCharacters} букв и последнее слово: {lastWord}\")  "
   ]
  },
  {
   "cell_type": "markdown",
   "id": "0528971a",
   "metadata": {},
   "source": [
    "У нас все еще в «памяти» интерпретатора языка `Python` хранится переменная «предложение» (`sentence`). Попробуйте вывести второе слово предложения, используя полученные навыки:"
   ]
  },
  {
   "cell_type": "code",
   "execution_count": 20,
   "id": "11dee8ab",
   "metadata": {},
   "outputs": [
    {
     "name": "stdout",
     "output_type": "stream",
     "text": [
      "Добрый вечер вам!\n",
      " вечер\n"
     ]
    }
   ],
   "source": [
    "print(sentence)  \n",
    "print(sentence[6:12])  "
   ]
  },
  {
   "cell_type": "markdown",
   "id": "2183fa62",
   "metadata": {},
   "source": [
    "Помимо нарезки списка есть также другие операции, которые мы можем применить к строкам. Мы можем подсчитать количество вхождений определенного символа в строку:"
   ]
  },
  {
   "cell_type": "code",
   "execution_count": 21,
   "id": "a14da8d8",
   "metadata": {},
   "outputs": [
    {
     "name": "stdout",
     "output_type": "stream",
     "text": [
      "0\n"
     ]
    }
   ],
   "source": [
    "print(sentence.count('o'))  "
   ]
  },
  {
   "cell_type": "markdown",
   "id": "f2d29330",
   "metadata": {},
   "source": [
    "Мы также можем найти положение символа. Ниже представлено два примера с использованием двух разных методов для этого."
   ]
  },
  {
   "cell_type": "code",
   "execution_count": 22,
   "id": "69c998e6",
   "metadata": {},
   "outputs": [
    {
     "name": "stdout",
     "output_type": "stream",
     "text": [
      "4\n",
      "17\n"
     ]
    }
   ],
   "source": [
    "print(text.find('e'))  \n",
    "sometext = \"Привет, как дела как?\"  \n",
    "print(sometext.rfind(\"как\"))  "
   ]
  },
  {
   "cell_type": "markdown",
   "id": "8c1f68da",
   "metadata": {},
   "source": [
    "Метод `rfind()` возвращает последнее появление строки. Итак, в текстовой переменной `sometext` мы дважды употребляем слово «как». Метод `rfind()` возвращает 17, что означает, что последний раз, когда он нашел слово «как», он начинался с позиции 17 (считая с 0).\n",
    "\n",
    "Есть еще несколько полезных методов для строк, некоторые примеры которых представлены ниже. Запустите приведенный ниже код и проанализируйте результат:"
   ]
  },
  {
   "cell_type": "code",
   "execution_count": 23,
   "id": "a664cc2e",
   "metadata": {},
   "outputs": [
    {
     "name": "stdout",
     "output_type": "stream",
     "text": [
      "ПРИВЕТ, КАК ДЕЛА КАК?\n",
      "['Привет', ' как дела как?']\n",
      "Привет, как дела как!\n"
     ]
    }
   ],
   "source": [
    "# Переводит строку в верхний регистр  \n",
    "print(sometext.upper())  \n",
    "  \n",
    "# Разбивает строку и возвращает ее как элементы списка. Вы узнаете о списках позже  \n",
    "print(sometext.split(\",\"))  \n",
    "  \n",
    "# Заменяет строки  \n",
    "print(sometext.replace(\"?\",\"!\"))  "
   ]
  },
  {
   "cell_type": "markdown",
   "id": "11a5b66e",
   "metadata": {},
   "source": [
    "Также есть некоторые специальные символы:\n",
    "\n",
    "-   «`\\n`» – переходит на новую строку\n",
    "\n",
    "-   «`\\`» – escape-символ (escape – с англ. освобождающий, экранирующий). Вы можете поместить его перед другим символом, который имеет значение в коде и не считается строкой. Как один из примеров применения, экранирование часто используется, чтобы иметь строки, представляющие собой пути к файлу (например, «`C:\\\\папка\\\\имя_файла.txt`»). Поскольку «`\\`» уже является escape-символом, нам нужно использовать его дважды, чтобы экранировать косую черту в строке (экранировать – означает, что в нашей строке действительно используется символ «слеш», а не спец символ).\n",
    "\n",
    "Ниже представлено несколько примеров использования специальных сисволов «`n`» и «`\\`». Обратите внимание, что специальных символов существует большее колличество, чем два (указанных). Они аналогичны тем, что используются в других языках программирования."
   ]
  },
  {
   "cell_type": "code",
   "execution_count": 24,
   "id": "849f1e30",
   "metadata": {},
   "outputs": [
    {
     "name": "stdout",
     "output_type": "stream",
     "text": [
      "Это очень длинное предложение, и я хочу разбить его на две строки.\n",
      "Это очень длинное предложение \n",
      ", и я хочу разбить его на две строки.\n",
      "Это предложение содержит цитату, и я не хочу, чтобы строка заканчивалась (пока) \"\n"
     ]
    }
   ],
   "source": [
    "print(\"Это очень длинное предложение, и я хочу разбить его на две строки.\")  \n",
    "print(\"Это очень длинное предложение \\n, и я хочу разбить его на две строки.\")  \n",
    "print(\"Это предложение содержит цитату, и я не хочу, чтобы строка заканчивалась (пока) \\\"\")  "
   ]
  },
  {
   "cell_type": "markdown",
   "id": "7972ac66",
   "metadata": {},
   "source": [
    "### Циклы\n",
    "\n",
    "Представьте, что вам нужна программа, которая сделает что-то 20 раз. Вы можете скопировать и вставить код 20 раз и получить потенциально более медленную и практически нечитаемую программу. Для решения этой проблемы вы можете «приказать» компьютеру повторять фрагмент кода между точками A и B, пока не выполнится условие, при котором нужно будет остановится. Это называется циклом.\n",
    "\n",
    "### Цикл «while»\n",
    "\n",
    "Ниже приведены примеры цикла, называемого циклом `while` (while c англ. ­– пока). Пока выполняется некоторое условие, то код, располагающийся внутри цикла `while, будет выполнятся.`"
   ]
  },
  {
   "cell_type": "code",
   "execution_count": 25,
   "id": "6afea455",
   "metadata": {},
   "outputs": [
    {
     "name": "stdout",
     "output_type": "stream",
     "text": [
      "1\n",
      "2\n",
      "3\n",
      "4\n",
      "5\n",
      "6\n",
      "7\n",
      "8\n",
      "9\n",
      "10\n"
     ]
    }
   ],
   "source": [
    "a = 0\n",
    "while a < 10:\n",
    "    a = a + 1\n",
    "    print(a)"
   ]
  },
  {
   "cell_type": "markdown",
   "id": "9d2b0d93",
   "metadata": {},
   "source": [
    "Код, который расположен внутри цикла называется телом цикла. Тело бывает не только у циклов, но и у множества других конструкций языка программирования. Тело и вложенность кода задается при помощи 4 пробелов (или нажатия клавиши <span custom-style=\"код Знак\">tab</span>).\n",
    "\n",
    "Ниже представлено описание кода на алгоритмическом языке. Алгоритмический язык описывает последовательность работы программы на естественном русском языке:\n",
    "```python\n",
    "‘a’ теперь равно 0  \n",
    "Пока «а» меньше 10, сделайте следующее:  \n",
    "Сделайте единицу больше, чем она есть.  \n",
    "Напечатайте на экране, сколько сейчас стоит «а».  \n",
    "Давайте рассмотрим, какую последовательность действий компьютер будет выполнять, при выполнении цикла «`while`»:\n",
    "\n",
    "ИТЕРАЦИЯ 0  \n",
    "«А» меньше 10? ДА (его 0)  \n",
    "Сделать ‘a’ на один больше (теперь 1)  \n",
    "напечатать на экране значение ‘а’ (1)\n",
    "\n",
    "ИТЕРАЦИЯ 1  \n",
    "«А» меньше 10? ДА (его 1)  \n",
    "Сделайте “a” на один больше (теперь 2)  \n",
    "напечатать на экране, что такое ‘а’ (2)  \n",
    "——–  \n",
    "ИТЕРАЦИЯ 9  \n",
    "«А» меньше 10? НЕТ (значение «А» = 10, следовательно, не оно меньше 10)  \n",
    "Не делать цикл  \n",
    "Кода больше не осталось, поэтому программа завершается \n",
    "```\n",
    "\n",
    "Цикл `while` имеет следующий синтаксис:\n",
    "\n",
    "```python\n",
    "while {условие продолжения цикла}:  \n",
    "{код тела цикла (что делать)}  \n",
    "{тело всегда отделяется tab-ом или 4-мя пробелами}  \n",
    "код здесь не зациклен  \n",
    "потому что он без отступа  \n",
    "```\n",
    "\n",
    "Теперь проанализируйте результат выполнения представленного ниже кода:"
   ]
  },
  {
   "cell_type": "code",
   "execution_count": 26,
   "id": "63437a93",
   "metadata": {},
   "outputs": [
    {
     "name": "stdout",
     "output_type": "stream",
     "text": [
      "10\n",
      "мы посчитали х, и теперь он равен 9\n",
      "9\n",
      "мы посчитали х, и теперь он равен 8\n",
      "8\n",
      "мы посчитали х, и теперь он равен 7\n",
      "7\n",
      "мы посчитали х, и теперь он равен 6\n",
      "6\n",
      "мы посчитали х, и теперь он равен 5\n",
      "5\n",
      "мы посчитали х, и теперь он равен 4\n",
      "4\n",
      "мы посчитали х, и теперь он равен 3\n",
      "3\n",
      "мы посчитали х, и теперь он равен 2\n",
      "2\n",
      "мы посчитали х, и теперь он равен 1\n",
      "1\n",
      "мы посчитали х, и теперь он равен 0\n",
      "И вот цикл закончен.\n"
     ]
    }
   ],
   "source": [
    "x = 10\n",
    "while x != 0:\n",
    "    print(x)\n",
    "    x = x - 1\n",
    "    print(\"мы посчитали х, и теперь он равен\", x)\n",
    "print(\"И вот цикл закончен.\")"
   ]
  },
  {
   "cell_type": "markdown",
   "id": "b2444ffc",
   "metadata": {
    "tags": []
   },
   "source": [
    "В примере было показано, что «`print(“И вот цикл закончен.”)`», не являющийся элементов тела цикла, выполнился только 1 раз. Цикл выполняет то, что внутри его тела, пока условие выполняется `«x != 0»`, т.е. истинно.\n",
    "\n",
    "### Логические (или булевы) выражения\n",
    "\n",
    "В области, отмеченной `{условия продолжения цикла}`, которую мы с вами рассматривали выше, указывается выражение, называемое логическим или булевым. Логическое выражение означает вопрос, на который можно ответить `истина` или `ложь` (`true` и `false` с англ. соответственно). Например, если вы хотите сравнить равенство вашего возраста с возрастом человека, который рядом с вами, вы должны ввести:\n",
    "\n",
    "```python\n",
    "Мой возраст == возраст человека рядом со мной \n",
    "```\n",
    "\n",
    "Для вы создания логических выражений вы можете использовать любые операторы сравнения, которые представлены в таблице ниже (Таблица 3).\n",
    "\n",
    "Таблица 3. Операторы сравнения\n",
    "\n",
    "<table>\n",
    "    <colgroup>\n",
    "        <col style=\"width: 15%\" />\n",
    "        <col style=\"width: 57%\" />\n",
    "        <col style=\"width: 27%\" /> </colgroup>\n",
    "    <thead>\n",
    "        <tr class=\"header\">\n",
    "            <th>\n",
    "                <p> Оператор </p>\n",
    "            </th>\n",
    "            <th>\n",
    "                <p> Описание </p>\n",
    "            </th>\n",
    "            <th>\n",
    "                <p> Пример для <span data-custom-style=\"code_in_text Char\">а=10, b=20</span> </p>\n",
    "            </th>\n",
    "        </tr>\n",
    "    </thead>\n",
    "    <tbody>\n",
    "        <tr>\n",
    "            <td>\n",
    "                <p> ==,\n",
    "                    <br> != или &lt;&gt; </p>\n",
    "            </td>\n",
    "            <td>\n",
    "                <p> Оператор «равно» и два варианта оператора «не равно» соответственно. </p>\n",
    "            </td>\n",
    "            <td>\n",
    "                <p> (а == b) не верно\n",
    "                    <br> (а != b) истинно </p>\n",
    "            </td>\n",
    "        </tr>\n",
    "        <tr>\n",
    "            <td>\n",
    "                <p> &gt; и &lt; </p>\n",
    "            </td>\n",
    "            <td>\n",
    "                <p> Оператор «больше» и оператор «меньше» соответственно. </p>\n",
    "            </td>\n",
    "            <td>\n",
    "                <p> (а &gt; b) не верно\n",
    "                    <br> (а &lt; b) истинно </p>\n",
    "            </td>\n",
    "        </tr>\n",
    "        <tr>\n",
    "            <td>\n",
    "                <p> &gt;= и &lt;= </p>\n",
    "            </td>\n",
    "            <td>\n",
    "                <p> Оператор «больше или равно» и оператор «меньше или равно» соответственно. </p>\n",
    "            </td>\n",
    "            <td>\n",
    "                <p> (а &gt;= b) не верно\n",
    "                    <br> (а &lt;= b) истинно </p>\n",
    "            </td>\n",
    "        </tr>\n",
    "    </tbody>\n",
    "</table>\n",
    "\n",
    "Не стоит путать «`=`» и «`==`». Оператор присваивания «`=`» делает то, что находится слева, равным тому, что находится справа. оператор сравнения «`==`» говорит, совпадает ли элемент слева с тем, что находится справа, и возвращает `True` или `False`.\n",
    "\n",
    "### Условные инструкции\n",
    "\n",
    "Условные инструкции (выражения)– это когда часть кода запускается только при соблюдении определенных условий. Это похоже на работу цикла `while`, рассмотренную ранее, однако тело условных инструкций выполняются только один раз. Самым распространенным условным выражением в любом языке программирования является оператор `if`. Ниже представлен его синтаксис:\n",
    "\n",
    "```python\n",
    "if {условия, которые должны быть выполнены}:  \n",
    "    {сделай это}  \n",
    "    {и это}  \n",
    "    {и это}  \n",
    "{но это происходит независимо}  \n",
    "{потому что это без отступа}\n",
    "```\n",
    "\n",
    "Рассмотрим несколько примеров на `Python`, представленных ниже:"
   ]
  },
  {
   "cell_type": "code",
   "execution_count": 27,
   "id": "719ae574-25c1-48f2-bff8-accce921733c",
   "metadata": {},
   "outputs": [
    {
     "name": "stdout",
     "output_type": "stream",
     "text": [
      "y по-прежнему равно 1, я просто проверял\n"
     ]
    }
   ],
   "source": [
    "#Пример 1\n",
    "y = 1\n",
    "if y == 1:\n",
    "    print(\"y по-прежнему равно 1, я просто проверял\")"
   ]
  },
  {
   "cell_type": "code",
   "execution_count": 28,
   "id": "57058223-78f5-40c9-a0e9-f04498206416",
   "metadata": {},
   "outputs": [
    {
     "name": "stdout",
     "output_type": "stream",
     "text": [
      "Мы покажем четные числа до 20\n",
      "2\n",
      "4\n",
      "6\n",
      "8\n",
      "10\n",
      "12\n",
      "14\n",
      "16\n",
      "18\n",
      "20\n",
      "готово\n"
     ]
    }
   ],
   "source": [
    "#Пример 2\n",
    "print(\"Мы покажем четные числа до 20\")\n",
    "n = 1\n",
    "while n <= 20:\n",
    "    if n % 2 == 0:\n",
    "        print(n)\n",
    "    n = n + 1\n",
    "print(\"готово\")"
   ]
  },
  {
   "cell_type": "markdown",
   "id": "83a8b8f4-8419-42fd-bae5-2679e1eef99b",
   "metadata": {},
   "source": [
    "Пример 2 выглядит непростым. Но все, что мы в нем выполняется – это запуск оператора `if` каждый раз, когда выполняется тело цикла `while` (каждый новый так выполнения тела называется итерацией). Математическая операция «`%`» означает остаток от деления, т.е. осуществляется проверка того, что ничего не осталось (остаток равен нулю), если число делится на два – показывая, что оно четное. Если значение переменной `n` четное, то программа выводит его.\n",
    "\n",
    "### else и elif - операторы “когда это не так”\n",
    "\n",
    "Есть несколько способов использования оператора `if` для ситуаций, когда ваше логическое выражение оказывается ложным. Это добавление после оператора `if`  операторов `else` и `elif`.\n",
    "\n",
    "Оператор `else`, указанный после `if`, определяет, что делать, если условие в `if` не выполняется. Например, в следующем коде переменная `a` не больше пяти, поэтому то, что указано в `else`, выполняется:"
   ]
  },
  {
   "cell_type": "code",
   "execution_count": 29,
   "id": "45582348",
   "metadata": {},
   "outputs": [
    {
     "name": "stdout",
     "output_type": "stream",
     "text": [
      "Это должно выполниться.\n"
     ]
    }
   ],
   "source": [
    "a = 1\n",
    "if a > 5:\n",
    "    print(\"Это не должно выполниться.\")\n",
    "else:\n",
    "    print(\"Это должно выполниться.\")"
   ]
  },
  {
   "cell_type": "markdown",
   "id": "874573c4",
   "metadata": {},
   "source": [
    "Оператор `elif` – это сокращенный способ указания конструкции `else if`. Когда оператор условие `if` ложно, `elif` будет делать то, что содержится в его теле, если выполняются условия. Например:"
   ]
  },
  {
   "cell_type": "code",
   "execution_count": 30,
   "id": "33bf5e74",
   "metadata": {},
   "outputs": [
    {
     "name": "stdout",
     "output_type": "stream",
     "text": [
      "Все ок\n"
     ]
    }
   ],
   "source": [
    "z = 4\n",
    "if z > 70:\n",
    "    print(\"Что-то не так\")\n",
    "elif z < 7:\n",
    "    print(\"Все ок\") "
   ]
  },
  {
   "cell_type": "markdown",
   "id": "56a4cc7e",
   "metadata": {},
   "source": [
    "Использование оператора `if` вместе с `else` и `elif` выглядит следующим образом:\n",
    "\n",
    "```python\n",
    "if {#условия}:\n",
    "    {#выполнить этот код}\n",
    "elif {#условия}:\n",
    "    {run this code}\n",
    "elif {#условия}:\n",
    "    {#выполнить этот код}\n",
    "else:\n",
    "    {#выполнить этот код}\n",
    "# У вас может быть столько или меньше операторов elif, сколько вам нужно\n",
    "# Но у вас может быть не более одного оператора else и только после всех остальных if и elifs.\n",
    "```\n",
    "\n",
    "Один из наиболее важных моментов, который следует помнить – это то, что вы должны иметь двоеточие в конце каждой строки с `if, elif, else` или `while` в нем. Вы условиях вы так же можете указывать составные условия, созданные при помощи логических операторов «`&`» или «`|`» («и» и «или» соответственно):"
   ]
  },
  {
   "cell_type": "code",
   "execution_count": 31,
   "id": "58a734ac",
   "metadata": {},
   "outputs": [
    {
     "name": "stdout",
     "output_type": "stream",
     "text": [
      "…\n"
     ]
    }
   ],
   "source": [
    "if (2>0) & (3>0):\n",
    "    print(\"…\")"
   ]
  },
  {
   "cell_type": "markdown",
   "id": "9d645af4",
   "metadata": {},
   "source": [
    "### Отступы\n",
    "\n",
    "Вложенность строк кода в `Python`, как уже было сказано, определяется при помощи 4 пробелов перед каждой вложенной строкой кода. При этом строки кода разделяются между собой переносом строчки на новую (т.е., например, вы не можете напрямую написать несколько `print()` в одной строчке, и например, разделить их запятыми).\n",
    "\n",
    "Уровней вложенности кода может быть много. Ниже представлен пример, представляющий собой объединение рассмотренных ранее примеров."
   ]
  },
  {
   "cell_type": "code",
   "execution_count": 32,
   "id": "1686c9f1",
   "metadata": {},
   "outputs": [
    {
     "name": "stdout",
     "output_type": "stream",
     "text": [
      "10\n",
      "Большое число!\n",
      "мы просто сделали на единицу меньше, чем было!\n",
      "и если a не больше 0, мы выполним цикл снова.\n",
      "9\n",
      "Большое число!\n",
      "мы просто сделали на единицу меньше, чем было!\n",
      "и если a не больше 0, мы выполним цикл снова.\n",
      "8\n",
      "Большое число!\n",
      "мы просто сделали на единицу меньше, чем было!\n",
      "и если a не больше 0, мы выполним цикл снова.\n",
      "7\n",
      "Большое число!\n",
      "мы просто сделали на единицу меньше, чем было!\n",
      "и если a не больше 0, мы выполним цикл снова.\n",
      "6\n",
      "Большое число!\n",
      "мы просто сделали на единицу меньше, чем было!\n",
      "и если a не больше 0, мы выполним цикл снова.\n",
      "5\n",
      "Это нечетное число\n",
      "И не больше пяти.\n",
      "мы просто сделали на единицу меньше, чем было!\n",
      "и если a не больше 0, мы выполним цикл снова.\n",
      "4\n",
      "это число не больше 5\n",
      "и не является нечетным\n",
      "мы просто сделали на единицу меньше, чем было!\n",
      "и если a не больше 0, мы выполним цикл снова.\n",
      "3\n",
      "Это нечетное число\n",
      "И не больше пяти.\n",
      "мы просто сделали на единицу меньше, чем было!\n",
      "и если a не больше 0, мы выполним цикл снова.\n",
      "2\n",
      "это число не больше 5\n",
      "и не является нечетным\n",
      "мы просто сделали на единицу меньше, чем было!\n",
      "и если a не больше 0, мы выполним цикл снова.\n",
      "1\n",
      "Это нечетное число\n",
      "И не больше пяти.\n",
      "мы просто сделали на единицу меньше, чем было!\n",
      "и если a не больше 0, мы выполним цикл снова.\n",
      "ну, похоже, что 'a' теперь не больше 0!\n",
      "цикл окончен, и без дальнейших действий, и эта программа тоже!\n"
     ]
    }
   ],
   "source": [
    "a = 10\n",
    "while a > 0:\n",
    "    print(a)\n",
    "    if a > 5:\n",
    "        print(\"Большое число!\")\n",
    "    elif a % 2 != 0:\n",
    "        print(\"Это нечетное число\")\n",
    "        print(\"И не больше пяти.\")\n",
    "    else:\n",
    "        print(\"это число не больше 5\")\n",
    "        print(\"и не является нечетным\")\n",
    "    a = a - 1\n",
    "    print(\"мы просто сделали на единицу меньше, чем было!\")\n",
    "    print (\"и если a не больше 0, мы выполним цикл снова.\")\n",
    "print (\"ну, похоже, что 'a' теперь не больше 0!\")\n",
    "print (\"цикл окончен, и без дальнейших действий, и эта программа тоже!\")"
   ]
  },
  {
   "cell_type": "markdown",
   "id": "62416ad0",
   "metadata": {},
   "source": [
    "Обратите внимание на три уровня отступов:\n",
    "\n",
    "-   Каждая строка первого уровня начинается без пробелов. Это основная программа, и она всегда будет выполняться.\n",
    "\n",
    "-   Каждая строка на втором уровне начинается с четырех пробелов. Когда есть `if` или цикл на первом уровне, все на втором уровне после этого будет зациклено, пока новая строка снова не начнется на первом уровне.\n",
    "\n",
    "-   Каждая строка третьего уровня начинается с восьми пробелов. Когда есть `if` или цикл на втором уровне, все на третьем уровне после этого будет зациклено, пока новая строка снова не начнется на втором уровне.\n",
    "\n",
    "-   Это продолжается бесконечно, пока у человека, пишущего программу, сохраняется понимание того, что он пишет.\n",
    "\n",
    "В других языках программирования вложенность определяется иначе, например в `С++` для определения вложенности используются фигурные скобки и точки запятой вместо 4 пробелов и переноса строк соответственно.\n",
    "\n",
    "### Функции\n",
    "\n",
    "Функции – это небольшие структуры кода, которые выполняют определенную задачу, когда вы запускаете их.\n",
    "\n",
    "После того, как вы создали функцию, вы можете использовать ее в любое время и в любом месте. Это экономит ваше время и усилия, связанные с необходимостью указывать один и тот же набор кода в разных местах. При этом, если вам потребуется поменять код функции, то сделать это нужно будет только в одном месте ­ – там, где мы его создавали, а не во всех местах, в которых –просто использовали.\n",
    "\n",
    "`Python` имеет множество готовых функций, которые вы можете использовать, просто «вызывая» их. Вызов функции (именно так называется запуск функции на выполнение) подразумевает, что вы вводите имя функции, выполняется вложенный в нее код, а затем она на месте своего имени возвращает значение (как переменная). Ниже представлен пример синтаксиса вызова функции:  \n",
    "<span custom-style=\"код Знак\">имя_функции (параметры)</span>\n",
    "\n",
    "Имя функции определяет, какую функцию вы хотите использовать. Например, функция `raw_input()` (с англ. – сырой ввод) может использоваться для решения задачи, имя которой и несет. Например, обрабатывать «сырой ввод» значений с клавиатуры.\n",
    "\n",
    "Параметры – это значения, которые вы передаете функции, чтобы сообщить ей, что она должна делать и как это делать. Например, если функция создается для умножения любого требуемого числа на пять, то в параметрах указывается, какое число её следует умножить на пять. Введите число 70 в параметры, тогда функция выполнит 70 x 5 и вернет результат данного действия.\n",
    "\n",
    "### Параметры и возвращаемые значения - взаимодействие с функциями\n",
    "\n",
    "Теперь мы знаем, что придуманная и потенциально написанная нами пользовательская функция может умножать число на пять, но что она для должна «показать» пользователю после своего выполнения? Результат умножения, который является и называется возвращаемым значением функции.\n",
    "\n",
    "Говоря упрощённо, когда интерпретатор выполняет функцию, он «видит» не имя функции, а результат того, что функция сделала, т.е. её возвращаемое значение. Переменные делают то же самое – «компьютер не видит имени переменной», он видит значение, которое содержит переменная.\n",
    "\n",
    "Назовем функцию, которая умножает любое число на пять, именем «`multiply()»`. При вызове функции (так, как уже было сказано, называется её запуск на выполнение) вы помещаете в скобки число (называется параметром), которое хотите умножить. Итак, если вы бы набрали это[2]:\n",
    "\n",
    "[2] <span>&#9757;&#128578;</span> Не вводите этот код – `multiply()` не является стандартной функцией, встроенной в `Python`. Это пользовательская функция, которую мы создадим позже.:\n",
    "\n",
    "```python\n",
    "a = multiply (70)\n",
    "```\n",
    "Интерпретатор в действительности «увидит» это:\n",
    "\n",
    "```python\n",
    "а = 350\n",
    "```\n",
    "\n",
    "Функция запустилась, а затем вернула число в основную программу в зависимости от того, какие параметры ей были заданы (в данном случае у нас был только один параметр).\n",
    "\n",
    "Теперь давайте попробуем это с реальной функцией и посмотрим, что она делает. Для примера, в `Python` существует стандартная функция c названием «`input»,` которая «просит» пользователя что-то ввести (на языке программистов – ожидает пользовательского ввода). Затем он превращает введенное значение в строку текста. Посмотрите на следующий код и результат его выполнения:"
   ]
  },
  {
   "cell_type": "code",
   "execution_count": 33,
   "id": "f7627087",
   "metadata": {},
   "outputs": [
    {
     "name": "stdin",
     "output_type": "stream",
     "text": [
      "Введите что-нибудь, и это будет повторяться на экране: 1\n"
     ]
    },
    {
     "name": "stdout",
     "output_type": "stream",
     "text": [
      "1\n"
     ]
    }
   ],
   "source": [
    "# эта строка делает 'a' равным тому, что вы вводите  \n",
    "a = input(\"Введите что-нибудь, и это будет повторяться на экране:\")  \n",
    "# эта строка печатает, сколько значение 'a'  \n",
    "print(a)  "
   ]
  },
  {
   "cell_type": "markdown",
   "id": "14fe5981",
   "metadata": {},
   "source": [
    "Скажем, в приведенной выше программе вы бы набрали текст «`hello»`, когда она попросила вас ввести что-то. На компьютере эта программа будет выглядеть так:"
   ]
  },
  {
   "cell_type": "code",
   "execution_count": 34,
   "id": "623d7d07",
   "metadata": {},
   "outputs": [
    {
     "name": "stdout",
     "output_type": "stream",
     "text": [
      "hello\n"
     ]
    }
   ],
   "source": [
    "a = \"hello\"  \n",
    "print(\"hello\")  "
   ]
  },
  {
   "cell_type": "markdown",
   "id": "5b53f095",
   "metadata": {},
   "source": [
    "Помните, что переменная – это сохраненное значение. Для компьютера переменная `a` не выглядит как `a` – она выглядит как значение, которое хранится внутри нее. Функции аналогичны – основной программе (то есть программе, в которой выполняется функция) они выглядят как значение того, что они дают в ответ на выполнение.\n",
    "\n",
    "Функция `input()`, сперва выводит текстовое сообщение, которое вы ей передали в качестве параметра, а затем считывает то, что введет пользователь, и после того, как он нажмет клавишу `enter` – вернет ту строку, которую и вводил пользователь.\n",
    "\n",
    "### Лямбда функции\n",
    "\n",
    "Лямбда-выражение позволяет создавать анонимные функции, или, говоря упрощенно – создавать одной маленькой строчкой кода полноценную функцию, у которой не будет имени и использоваться она будет сразу и только там, где вы её написали. Ниже представлено и прокомментировано несколько примеров использования лямбда функций. В целом, никаких существенных отличий от обычных функций нет, и лямбда функции бывают удобными в силу своей краткости.\n",
    "\n",
    "Лямбда-функции ограничены одним выражением. Это означает, что лямбда-функция не может использовать никакие операторы, даже оператор `return`."
   ]
  },
  {
   "cell_type": "code",
   "execution_count": 35,
   "id": "13e124b4",
   "metadata": {},
   "outputs": [
    {
     "name": "stdout",
     "output_type": "stream",
     "text": [
      "True\n",
      "True\n",
      "False\n"
     ]
    }
   ],
   "source": [
    "#1ый вариант.Именованная лямбда функция\n",
    "check_price = lambda price: price>= 2\n",
    "print (check_price(2))\n",
    "#2ый вариант. Неименованная лямбда функция\n",
    "print ((lambda price: price>= 2) (2))\n",
    "#несколько параметров. Проверка, что цена*колличество не больше 9\n",
    "print ((lambda price, quantity: price*quantity <= 9) (2, 10)) "
   ]
  },
  {
   "cell_type": "markdown",
   "id": "1f41abb5",
   "metadata": {},
   "source": [
    "### Программа «калькулятор»\n",
    "\n",
    "Напишем другую программу, которая будет выступать в роли калькулятора. На этот раз она будет выполнять что-то более масштабное, чем то, что мы делали раньше. Появится меню, в котором компьютер «спросит» пользователя, какую операцию он хочет выполнить: сложить, вычесть, разделить или перемножить два числа. Единственная проблема – функция `input()` возвращает то, что вы вводите в виде строки – нам нужна цифра 1, а не буква 1 (в `Python` есть разница, потому что переменные обладают типом).\n",
    "\n",
    "К счастью, в `Python` есть встроенная функция `eval()`, которая выполняет любой `Python` код, который вы ей передадите. Например, если передадите текст `‘1+1’`, то она вернет вам результат равный 2. Это сработает, потому что данный текст тоже является кодом, несмотря на то, что в нем нет переменных, а есть только два числа и математическая операция сложения.\n",
    "\n",
    "Используя `eval()` мы можем избежать сложностей с ручным разбором строки на отдельные значения и математические операторы. Если вы введете число 1, то результат будет следующий:"
   ]
  },
  {
   "cell_type": "code",
   "execution_count": 36,
   "id": "852d493c",
   "metadata": {},
   "outputs": [
    {
     "name": "stdin",
     "output_type": "stream",
     "text": [
      "Введите что-нибудь, и это будет повторено на экране:  1\n"
     ]
    },
    {
     "name": "stdout",
     "output_type": "stream",
     "text": [
      "1\n"
     ]
    }
   ],
   "source": [
    "# в этой строке «а» становится равным введенному вами значению. Она не принимает строки  \n",
    "a = eval(input(\"Введите что-нибудь, и это будет повторено на экране: \"))  \n",
    "# эта строка печатает, чему равно 'a'  \n",
    "print(a)  "
   ]
  },
  {
   "cell_type": "markdown",
   "id": "5e77ed65",
   "metadata": {},
   "source": [
    "Теперь давайте спроектируем этот калькулятор более сложным. Например, мы хотим, чтобы нам возвращалось меню каждый раз, когда вы заканчиваете сложение, вычитание и т. д. Другими словами, используем цикл, определяющий должна ли программа работать дальше, или калькулятор нам больше не нужен. Мы хотим, чтобы в меню была опция «если вы введете это число», то осуществить выход из калькулятора.\n",
    "\n",
    "Давайте сначала напишем модернизированную версию калькулятора на алгоритмическом языке:\n",
    "```python\n",
    "НАЧАТЬ ПРОГРАММУ\n",
    "вывести приветственное сообщение\n",
    "\n",
    "    # Распечатайте, какие у вас есть варианты\n",
    "     распечатать Вариант 1 - сложить\n",
    "     печать Вариант 2 - вычесть\n",
    "     печать Вариант 3 - умножить\n",
    "     печать Вариант 4 - разделить\n",
    "     вариант печати 5 - выйти из программы\n",
    "\n",
    "     спросить, какой вариант ты хочешь\n",
    "     если это вариант 1:\n",
    "         спроси первое число\n",
    "         спроси второе число\n",
    "         сложите их вместе\n",
    "         распечатать результат на экране\n",
    "     если это вариант 2:\n",
    "         спроси первое число\n",
    "         спроси второе число\n",
    "         вычесть одно из другого\n",
    "         распечатать результат на экране\n",
    "     если это вариант 3:\n",
    "         спроси первое число\n",
    "         спроси второе число\n",
    "         умножить!\n",
    "         распечатать результат на экране\n",
    "     если это вариант 4:\n",
    "         спроси первое число\n",
    "         спроси второе число\n",
    "         разделить одно на другое\n",
    "         распечатать результат на экране\n",
    "     если это вариант 5:\n",
    "         скажите циклу прекратить цикл\n",
    "Распечатать на экране прощальное сообщение\n",
    "КОНЕЦ ПРОГРАММЫ\n",
    "```\n",
    "\n",
    "Реализуем данный псевдокод при помощи `Python`:"
   ]
  },
  {
   "cell_type": "code",
   "execution_count": 37,
   "id": "2e1e84e8",
   "metadata": {},
   "outputs": [
    {
     "name": "stdout",
     "output_type": "stream",
     "text": [
      "Добро пожаловать в программу calculator.py\n",
      "Доступны следующие функции:\n",
      " \n",
      "1. Сложение\n",
      "2. Вычитание\n",
      "3. Умножение\n",
      "4. Деление\n",
      "5. Выход\n",
      " \n"
     ]
    },
    {
     "name": "stdin",
     "output_type": "stream",
     "text": [
      "Осуществите выбор функции:  1\n",
      "Прибавить:  1\n",
      "к:  1\n"
     ]
    },
    {
     "name": "stdout",
     "output_type": "stream",
     "text": [
      "1 + 1 = 2\n",
      "Добро пожаловать в программу calculator.py\n",
      "Доступны следующие функции:\n",
      " \n",
      "1. Сложение\n",
      "2. Вычитание\n",
      "3. Умножение\n",
      "4. Деление\n",
      "5. Выход\n",
      " \n"
     ]
    },
    {
     "name": "stdin",
     "output_type": "stream",
     "text": [
      "Осуществите выбор функции:  5\n"
     ]
    },
    {
     "name": "stdout",
     "output_type": "stream",
     "text": [
      "Спасибо вам за использование программы calculator.py!\n"
     ]
    }
   ],
   "source": [
    "# программа-калькулятор\n",
    "\n",
    "# эта переменная сообщает циклу, должен он зацикливаться или нет.\n",
    "#1 означает цикл. Все остальное означает «не зацикливаться».\n",
    "loop = 1\n",
    "\n",
    "# эта переменная содержит выбор пользователя в меню:\n",
    "choice = 0\n",
    "\n",
    "while loop == 1:\n",
    "    #print what options you have\n",
    "    print(\"Добро пожаловать в программу calculator.py\")\n",
    "    print(\"Доступны следующие функции:\")\n",
    "    print(\" \")\n",
    "    print(\"1. Сложение\")\n",
    "    print(\"2. Вычитание\")\n",
    "    print(\"3. Умножение\")\n",
    "    print(\"4. Деление\")\n",
    "    print(\"5. Выход\")\n",
    "    print(\" \")\n",
    "\n",
    "    choice = eval(input(\"Осуществите выбор функции: \"))\n",
    "    if choice == 1:\n",
    "        add1 = eval(input(\"Прибавить: \"))\n",
    "        add2 = eval(input(\"к: \"))\n",
    "        print(add1, \"+\", add2, \"=\", add1 + add2)\n",
    "    elif choice == 2:\n",
    "        sub2 = eval(input(\"Вычесть: \"))\n",
    "        sub1 = eval(input(\"из: \"))\n",
    "        print(sub1, \"-\", sub2, \"=\", sub1 - sub2)\n",
    "    elif choice == 3:\n",
    "        mul1 = eval(input(\"Умножить: \"))\n",
    "        mul2 = eval(input(\"на: \"))\n",
    "        print(mul1, \"*\", mul2, \"=\", mul1 * mul2)\n",
    "    elif choice == 4:\n",
    "        div1 = eval(input(\"Поделить это: \"))\n",
    "        div2 = eval(input(\"на: \"))\n",
    "        print(div1, \"/\", div2, \"=\", div1 / div2)\n",
    "    elif choice == 5:\n",
    "        loop = 0\n",
    "print(\"Спасибо вам за использование программы calculator.py!\")"
   ]
  },
  {
   "cell_type": "markdown",
   "id": "05358e3d",
   "metadata": {},
   "source": [
    "Поэкспериментируйте с этим – попробуйте все варианты, вводя целые числа (числа без десятичной точки) и числа с добавлением после десятичной точки (известные в программировании как числа с плавающей запятой). Попробуйте ввести текст и посмотрите, как программа перестает работать (с этим можно справиться, используя обработку ошибок, о которой мы поговорим позже).\n",
    "\n",
    "### Пользовательские функции (свои собственные функции)\n",
    "\n",
    "Ранее мы рассмотрели использование некоторых встроенных в `Python` функций. Если вы хотите написать свои собственные функции, то необходимо использовать оператор[3] `def`.\n",
    "\n",
    "[3] <span>&#9757;&#128578;</span> Понятие «оператор» – это то, что говорит интерпретатору Python, что делать, например, оператор «+» говорит Python добавить что-то, оператор if говорит Python что-то делать, если условия выполнены.\n",
    "\n",
    "Синтаксис использования оператора `def` следующий:\n",
    "```python\n",
    "def function_name(параметр_1,параметр_2):\n",
    "    {код функции}\n",
    "    {больше кода}\n",
    "    {больше кода}\n",
    "    return {возвращаемое значение функции}\n",
    "{этого кода нет в функции}\n",
    "{потому что это без отступа}\n",
    "# не забудьте поставить двоеточие \":\" в конце\n",
    "# строки, начинающейся с def\n",
    "```\n",
    "\n",
    "`где function_name` – это имя функции. Вы пишете код, который находится в функции под этой строкой, с отступом в 4 пробела. Мы ещё поговорим о передаваемых (и принимаемых) функции (и функцией) параметрах `параметр_1` и `параметр_2` позже, а пока представьте, что между скобками нет ничего.\n",
    "\n",
    "Функции выполняются полностью независимо от основной программы. Ранее было сказано, что, когда интерпретатор переходит к функции, он «видит» не функцию, а значение, которое функция возвращает. Ниже представлена сокращенная цитата:\n",
    "\n",
    "«Для компьютера переменная `a` выглядит как значение, которое хранится внутри нее. Функции аналогичны – они выглядят как значение того, что они дают в ответ на своё выполнение.»\n",
    "\n",
    "Функция похожа на миниатюрную программу, которой передаются некоторые параметры – затем она запускается сама, а далее возвращает значение. Ваша основная программа «видит» только возвращаемое значение. Если бы эта функция в конце своего тела имела бы инструкцию возвращаемого значения `return` (c англ. return – вернуть):\n",
    "\n",
    "```python\n",
    "return 'hello'  \n",
    "```\n",
    "то тогда вся интерпретатор в вашей программе «увидит» строку «`hello`», на том месте, где было имя функции.\n",
    "\n",
    "Поскольку это отдельная программа, функция не видит[4] никаких переменных, которые есть в вашей основной программе, а ваша основная программа не видит никаких переменных, которые находятся в функции. Например, вот функция, которая выводит на экран слово «привет», а затем возвращает число «1234» в основную программу:\n",
    "\n",
    "[4] <span>&#9757;&#128578;</span> Ранее слово «видит» использовалось в кавычках, т.к. не использовалось в качестве термина. Здесь же слово «видит» является термином, потому что в программировании есть такое понятие, как «зона видимости». В данном контексте, функция действительно «не видит переменных основной программы» (цитата), потому что они находятся вне её зоны видимости. Она видит только переданные ей в параметрах переменные, либо свои внутренние переменные, либо переменные обьявленные внутри нее, но с флагом `global`."
   ]
  },
  {
   "cell_type": "code",
   "execution_count": 38,
   "id": "514e891c",
   "metadata": {},
   "outputs": [
    {
     "name": "stdout",
     "output_type": "stream",
     "text": [
      "Привет\n",
      "1234\n"
     ]
    }
   ],
   "source": [
    "# Ниже приведено определение пользовательской функции\n",
    "def hello():\n",
    "    print(\"Привет\")\n",
    "    return 1234\n",
    "# А вот вызов (использование) данной пользовательской функции\n",
    "print(hello())"
   ]
  },
  {
   "cell_type": "markdown",
   "id": "45ad360b",
   "metadata": {},
   "source": [
    "При выполнении «`def hello()»` была создана (объявлена) функция с именем «hello». Когда была запущена строка «`print(hello())»`, была выполнена функция `hello()` (и код внутри нее был запущен).\n",
    "\n",
    "Функция `hello()` напечатала на экране «hello», а затем вернула число «1234» обратно в основную программу. Основная программа теперь «видит» строку как `print ('1234')` и в результате выводит 1234.\n",
    "\n",
    "Этим объясняется все, что произошло. Помните, что у основной программы не было представления о том, что на экране были напечатано слово «hello». Все, что она «увидела», было «1234», и вывела это на экран.\n",
    "\n",
    "### Передача параметров функциям\n",
    "\n",
    "Вспомните, как мы определяли функции:\n",
    "\n",
    "```python\n",
    "def имя_функции (параметр_1, параметр_2):\n",
    "     {это код функции}\n",
    "     {дополнительный код}\n",
    "     {дополнительный код}\n",
    "     return {значение (например, текст или число), чтобы вернуться в основную программу}\n",
    "```\n",
    "Где `параметр_1` и `параметр_2` (в скобках), вы помещаете имена переменных, в которые вы хотите поместить параметры. Введите столько параметров, сколько вам нужно, разделяя их запятыми.\n",
    "\n",
    "Когда вы запускаете функцию, первое значение, которое вы помещаете в круглые скобки, переходит в переменную, где находится `параметр_1`. Второй (после первой запятой) параметр перейдет к переменной, в которой находится `параметр_2`. Это происходит для любого количества параметров функции (от нуля и больше). Например:"
   ]
  },
  {
   "cell_type": "code",
   "execution_count": 39,
   "id": "103d6787",
   "metadata": {},
   "outputs": [],
   "source": [
    "def funnyfunction(first_word,second_word,third_word):\n",
    "    print(\"Слово: \" + first_word + second_word + third_word)\n",
    "    return first_word + second_word + third_word"
   ]
  },
  {
   "cell_type": "markdown",
   "id": "2c515588",
   "metadata": {},
   "source": [
    "Когда вы запускаете (вызываете) указанную выше функцию, вы должны ввести что-то вроде этого: `funnyfunction (\"мясо\",\"людоед\", \"человек\")`. Первое значение (то есть «мясо») будет помещено в переменную с именем `first_word`. Второе значение в скобках (то есть «`eater`») будет помещено в переменную с именем `second_word` и так далее. Вот как значения передаются из основной программы в функции, т.е. они передаются в скобках после имени функции.\n",
    "\n",
    "Добавьте в приведенный выше код вызов функции.\n",
    "\n",
    "### Модернизация программы «калькулятор»\n",
    "\n",
    "Вернемся к программе «калькулятор». Давайте перепишем её с использованием функций, чтобы она была более читаемой. Сначала мы определим все функции, которые мы собираемся использовать, с помощью оператора `def`. Затем у нас будет основная программа, в которой весь этот беспорядочный код будет заменен функциями."
   ]
  },
  {
   "cell_type": "code",
   "execution_count": 40,
   "id": "4cc6ab65",
   "metadata": {},
   "outputs": [
    {
     "name": "stdout",
     "output_type": "stream",
     "text": [
      "Добро пожаловать в программу calculator.py\n",
      "Доступны следующие функции:\n",
      " \n",
      "1. Сложение\n",
      "2. Вычитание\n",
      "3. Умножение\n",
      "4. Деление\n",
      "5. Выход\n",
      " \n"
     ]
    },
    {
     "name": "stdin",
     "output_type": "stream",
     "text": [
      "Осуществите выбор функции:  1\n",
      "Прибавить:  1\n",
      "к:  1\n"
     ]
    },
    {
     "name": "stdout",
     "output_type": "stream",
     "text": [
      "1 + 1 = 2\n",
      "Добро пожаловать в программу calculator.py\n",
      "Доступны следующие функции:\n",
      " \n",
      "1. Сложение\n",
      "2. Вычитание\n",
      "3. Умножение\n",
      "4. Деление\n",
      "5. Выход\n",
      " \n"
     ]
    },
    {
     "name": "stdin",
     "output_type": "stream",
     "text": [
      "Осуществите выбор функции:  5\n"
     ]
    },
    {
     "name": "stdout",
     "output_type": "stream",
     "text": [
      "Спасибо за использование программы calculator.py!\n"
     ]
    }
   ],
   "source": [
    "# программа-калькулятор\n",
    "# Здесь мы определим наши функции\n",
    "# это печатает главное меню и предлагает выбор\n",
    "def menu():\n",
    "    #печать списка доступных функций\n",
    "    print(\"Добро пожаловать в программу calculator.py\")\n",
    "    print(\"Доступны следующие функции:\")\n",
    "    print(\" \")\n",
    "    print(\"1. Сложение\")\n",
    "    print(\"2. Вычитание\")\n",
    "    print(\"3. Умножение\")\n",
    "    print(\"4. Деление\")\n",
    "    print(\"5. Выход\")\n",
    "    print(\" \")\n",
    "    return eval(input(\"Осуществите выбор функции: \"))\n",
    "    \n",
    "# функция сложения\n",
    "def add(a,b):\n",
    "    print(a, \"+\", b, \"=\", a + b)\n",
    "    \n",
    "#функция вычитания\n",
    "def sub(a,b):\n",
    "    print(b, \"-\", a, \"=\", b - a)\n",
    "    \n",
    "#функция умножения\n",
    "def mul(a,b):\n",
    "    print(a, \"*\", b, \"=\", a * b)\n",
    "    \n",
    "# функция деления\n",
    "def div(a,b):\n",
    "    print(a, \"/\", b, \"=\", a / b)\n",
    "    \n",
    "loop = 1\n",
    "choice = 0\n",
    "while loop == 1:\n",
    "    choice = menu()\n",
    "    if choice == 1:\n",
    "        add(eval(input(\"Прибавить: \")),eval(input(\"к: \")))\n",
    "    elif choice == 2:\n",
    "        sub(eval(input(\"Вычесть: \")),eval(input(\"из: \")))\n",
    "    elif choice == 3:\n",
    "        mul(eval(input(\"Умножить: \")),eval(input(\"на: \")))\n",
    "    elif choice == 4:\n",
    "        div(eval(input(\"Разделить: \")),eval(input(\"на: \")))\n",
    "    elif choice == 5:\n",
    "        loop = 0\n",
    "        \n",
    "print(\"Спасибо за использование программы calculator.py!\")"
   ]
  },
  {
   "cell_type": "markdown",
   "id": "a40c72a8",
   "metadata": {},
   "source": [
    "В исходной программе было 34 строки кода. В новом коде фактически 35 строк кода. Он немного длиннее, но, если смотреть на него с точки зрения опытного программиста, на самом деле он проще и более читаем.\n",
    "\n",
    "Вы определили все свои функции вверху файла программы. На самом деле это не часть вашей основной программы – это просто множество маленьких программ, которые вы вызовете позже[4]. Вы можете повторно использовать их в другой программе, не вынося их из этого файла. Это будет рассмотрено на следующем занятии.\n",
    "\n",
    "[4] <span>&#9757;&#128578;</span> Наступило время задуматься ещё раз о том, что такое понятие «точка входа», которое отражено на рисунке «Рис. 9» на странице [20](#_Ref88645723) и описано после него.\n",
    "\n",
    "Если вы посмотрите на основную часть программы (между строками «`loop=1»` и «`print(«Спасибо за …»)»)`, то это всего 15 строк кода. Это означает, что, если бы вы захотели написать эту программу другим способом, вам нужно было бы написать всего около 15 строк, в отличие от 34 строк, которые вам обычно приходилось бы писать без функций.\n",
    "\n",
    "### Хитрые способы передачи параметров\n",
    "\n",
    "Рассмотрим, что означают следующие строки программы «калькулятор»:\n",
    "\n",
    "```python\n",
    "add(eval(input(“Прибавить:”)),eval(input(“к:”))) \n",
    "```\n",
    "\n",
    "В строчке выше происходит вызов пользовательской функции `add()` и передача ей значений двух параметров, каждое из которых было получено как возвращенное от `eval(input())`. В конечном счете, когда вы уже ввели два числа, например 2 и 20, то произойдет вызов `add()` функции с этими параметрами:\n",
    "\n",
    "```python\n",
    "add (2,30) \n",
    "```\n",
    "\n",
    "Как более простой пример, в качестве параметров для функции сложения вы можете использовать обычные переменные вместо функций. Например.\n",
    "\n",
    "```python\n",
    "value1= 2  \n",
    "value2 = 30  \n",
    "add (value1, value2)\n",
    "```\n",
    "\n",
    "После вызова функции, запустится её код, т.е. сложит полученные параметры 2 и 30, а затем распечатает результат. В функции сложения нет инструкции `return` – т.е. она (эта функция) ничего не возвращает в основную программу. Она просто складывает два числа и сразу самостоятельно выводит их на экран, а основная программа ничего из этого не видит.\n",
    "\n",
    "Функция, в которую вы передаете параметры, не может изменять исходные параметры. Единственное, что видит функция, – это значения, которые ей передаются в качестве параметров. Эти значения помещаются в переменные, которые упоминаются при определении `add()` (строка «`def add (a, b)»`). Затем функция использует эти параметры для выполнения своей работы.\n",
    "\n",
    "Это определяется зоной видимости, про которую упомянуто в сноске № 3 на странице [24](#_Ref88646730). Чтобы функции были доступны некоторые переменные из основной программы, нужно внутри функции разрешить к ним доступ через ключевое слово `global`. Иначе будут созданы новые локальные переменные с аналогичным именем внутри функции. Подробнее про область видимости в `Python` читайте самостоятельно.\n",
    "\n",
    "Подытожим вышесказанное про функции:\n",
    "\n",
    "-   Единственное, что функции основной программы видят – это параметры, которые им передаются.\n",
    "\n",
    "-   Единственное, что основная программа видит из функций, – это их возвращаемое значение, которое функция возвращает.\n",
    "\n",
    "## Контрольные задания и вопросы\n",
    "\n",
    "1.  Что делает функция `print()` и как с её помощью выводить значение переменной? Опишите значение параметра `end`. Как вывести две строки одной строчкой (сложить строки)?\n",
    "\n",
    "2.  Опишите существующие типы переменных в `Python` (строки, числа и др.).\n",
    "\n",
    "3.  Как обрезать строки?\n",
    "\n",
    "4.  Что такое цикл `while` – объясните на примере.\n",
    "\n",
    "5.  Сделайте собственную функцию, которая бы вычисляла сумму двух чисел с плавающей и проверяла больше ли она числа Пи. Если больше, то сделать вывод текста «больше…» и наоборот."
   ]
  },
  {
   "cell_type": "code",
   "execution_count": null,
   "id": "d3986a25-2a83-4afa-bf79-cd36486898aa",
   "metadata": {},
   "outputs": [],
   "source": []
  }
 ],
 "metadata": {
  "kernelspec": {
   "display_name": "Python 3 (ipykernel)",
   "language": "python",
   "name": "python3"
  },
  "language_info": {
   "codemirror_mode": {
    "name": "ipython",
    "version": 3
   },
   "file_extension": ".py",
   "mimetype": "text/x-python",
   "name": "python",
   "nbconvert_exporter": "python",
   "pygments_lexer": "ipython3",
   "version": "3.8.20"
  }
 },
 "nbformat": 4,
 "nbformat_minor": 5
}
