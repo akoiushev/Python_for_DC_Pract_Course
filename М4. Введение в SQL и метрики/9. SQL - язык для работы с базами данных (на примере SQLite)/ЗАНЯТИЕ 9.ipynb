{
 "cells": [
  {
   "cell_type": "markdown",
   "id": "b5a1bae8",
   "metadata": {},
   "source": [
    "# ЗАНЯТИЕ 9. SQL ­– язык для работы с базами данных (на примере SQLite)[1]\n",
    "\n",
    "[1] <span>&#9757;&#128578;</span> Данное занятие разработано на основе документации `SQLite Python` [18].\n",
    "\n",
    "## Цели занятия\n",
    "\n",
    "Получение представления о языке `SQL` на примере работы с СУБД `SQLite`. Изучение основных принципов практической работы с базами данных как с одним из возможных типов источников получения информации (в том числе для расчета бизнес–метрик).\n",
    "\n",
    "## Порядок выполнения работы\n",
    "\n",
    "### Введение\n",
    "\n",
    "Исходные данные, которые предоставляются аналитику данных для анализа, часто имеют специфический формат, который влияет как на процесс чтения этих данных, так и определяет доступный функционал для их обработки и устанавливает ограничения как на этот функционал, так и на сами данные.\n",
    "\n",
    "Например, мы уже рассматривали работу с `CSV` файлами (данные, разделенные запятыми), этот формат не дает нам никакого удобного функционала для работы с этими данными, но зато он очень простой.\n",
    "\n",
    "База данных – совокупность данных, хранимых в соответствии со схемой данных, манипулирование которыми выполняют при помощи готового инструмента – системы управления базой данных (СУБД).\n",
    "\n",
    "Для взаимодействия с базой данных очень часто используется язык `SQL` (англ. structured query language — «язык структурированных запросов») – декларативный язык программирования, применяемый для создания, модификации и управления данными в реляционной базе данных. Реляционная база данных – это набор данных с предопределенными связями между ними.\n",
    "\n",
    "Используя средства СУБД, вы можете обрабатывать данные без отдельных языков программирования. Например, в данном модуле будут рассмотрено использование СУБД для вычисления различных метрик данных.\n",
    "\n",
    "Метрики данных­– это количественные показатели чего–либо, например:\n",
    "\n",
    "-   В бизнес аналитике метриками могут быть число активных покупателей или пользователей, отток клиентов;\n",
    "\n",
    "-   В машинном обучении метриками может быть точность, с которой модель обрабатывает данные, или метрика «скорость» ­– как быстро происходит процесс обучения модели;\n",
    "\n",
    "-   И многие другие метрики, которые интересны заказчику или исполнителю.\n",
    "\n",
    "Если метрика наиболее точно описывает качество протекающих процессов, то такую метрику называют ключевой.\n",
    "\n",
    "На данном занятии на примере взаимодействия с базой данных будут рассмотрены некоторые простые метрики на примере набора данных по продажам автомобилей.\n",
    "\n",
    "Довольно часто аналитика данных ведется либо только с использованием языка `SQL`, либо совместно с другим языком программирования. Например, как в данном случае – с языком `Python`. Обычно при помощи одного лишь `SQL` сложные алгоритмы не реализуют ­– это либо громоздко, либо работает медленно.\n",
    "\n",
    "### SQLite\n",
    "\n",
    "`SQLite` – компактная встраиваемая система управления базами данных (СУБД), где база данных представляет собой простой файл. В документации это называется автономной, бессерверной, не требующей конфигурации и транзакционной СУБД `SQL`.\n",
    "\n",
    "`SQLite` довольно проста и легковесна, поэтому даже поставляется как стандартная библиотека совместно с языком `Python3`.\n",
    "\n",
    "Подключим библиотеку `sqlite3` к нашему коду, и посмотрим какую версию данной библиотеки мы имеем:"
   ]
  },
  {
   "cell_type": "code",
   "execution_count": 1,
   "id": "b5f4f333",
   "metadata": {},
   "outputs": [
    {
     "name": "stdout",
     "output_type": "stream",
     "text": [
      "Версия библиотеки sqlite3: 2.6.0\n"
     ]
    }
   ],
   "source": [
    "import sqlite3  \n",
    "print('Версия библиотеки sqlite3:',sqlite3.version)  "
   ]
  },
  {
   "cell_type": "markdown",
   "id": "1a271337",
   "metadata": {},
   "source": [
    "Теперь мы можем создать базу данных и соединится к ней. Эти два действия делаются одной функцией `sqlite3.connect()`. То есть, если база данных с указанным именем уже существует, то мы просто откроем её. А если не существует – она автоматически будет создана и открыта."
   ]
  },
  {
   "cell_type": "code",
   "execution_count": 2,
   "id": "b126d497",
   "metadata": {},
   "outputs": [],
   "source": [
    "connection = None  \n",
    "connection = sqlite3.connect('./test.db')  "
   ]
  },
  {
   "cell_type": "markdown",
   "id": "08366970",
   "metadata": {},
   "source": [
    "Как нам понять, что база данных успешно создалась? Просто посмотрим какие у нас файлы здесь есть. Для этого существует встроенная в `Linux` системная утилита `ls` или в `Windows – dir`. В списке файлов вы должны увидеть появившийся `test.db`, т.е. файл базы данных:"
   ]
  },
  {
   "cell_type": "code",
   "execution_count": 3,
   "id": "f28324bf",
   "metadata": {},
   "outputs": [
    {
     "name": "stdout",
     "output_type": "stream",
     "text": [
      " Том в устройстве C не имеет метки.\n",
      " Серийный номер тома: F4E0-A256\n",
      "\n",
      " Содержимое папки C:\\Users\\pavel\\Desktop\\Python для аналитики данных (блокноты)\\МОДУЛЬ 4. Введение в SQL и метрики данных\\ЗАНЯТИЕ 9. SQL - язык для работы с базами данных (на примере SQLite)\n",
      "\n",
      "28.01.2022  00:44    <DIR>          .\n",
      "27.01.2022  09:10    <DIR>          ..\n",
      "27.01.2022  23:43    <DIR>          .ipynb_checkpoints\n",
      "28.01.2022  00:42            53 386 Chrysanthemum50.jpg\n",
      "27.01.2022  23:43    <DIR>          media\n",
      "28.01.2022  00:44                 0 test.db\n",
      "27.01.2022  23:42            90 599 ЗАНЯТИЕ 9.docx\n",
      "28.01.2022  00:43           824 511 ЗАНЯТИЕ 9.html\n",
      "28.01.2022  00:43           217 276 ЗАНЯТИЕ 9.ipynb\n",
      "               5 файлов      1 185 772 байт\n",
      "               4 папок  79 156 097 024 байт свободно\n"
     ]
    }
   ],
   "source": [
    "import platform\n",
    "\n",
    "if platform.system()=='Windows':\n",
    "    !dir \".\\\\\"\n",
    "if platform.system()=='Linux':\n",
    "    !ls \"./\""
   ]
  },
  {
   "cell_type": "markdown",
   "id": "64dd86b8",
   "metadata": {},
   "source": [
    "Знак «`!`» перед командой означает, что это не `Python` код, а код, который выполнится в системной оболочке. Это относится к понятию «магия» интерактивного интерпретатора, которое уже упоминалось ранее (см. сноску в Занятии 7 в разделе «Вывод графиков при помощи библиотеки matplotlib (и plotly)»).\n",
    "\n",
    "При помощи восклицательного знака будет осуществлён запуск системной утилиты `ls` или `dir` (в зависимости от типа платформы, которую вы используете). При этом утилите будет передан параметр, в данном случае ­– это путь к папке, содержимое которой мы хотим вывести. В данном случае этот путь – это текущий каталог («`\"./\"`» для `Linux` или «`\".\\\\\"`» для `Windows`, где у `Windows` из–за использования в структуре файловой системы обратных слешей обратный слеш экранирован при помощи второго обратного слеша). Текущий путь можно было и не указывать в виде параметра – эти утилиты и так по умолчанию выполняются для текущего каталога.\n",
    "\n",
    "Если бы мы хотели указать иной каталог, например возврат на 2 уровня наверх, то написали бы «`\"./../../\"`» или «`\".\\\\..\\\\..\\\\\"`». Или просто «`\"../../\"`» и «`..\\\\..\\\\`». Так же можно можно указывать не относительные, а абсолютные пути.\n",
    "\n",
    "В данном случае вы могли посмотреть создался ли файл `test.db` и через обычный графический проводник, или же при помощи проводника `JupytherLab` (но в нем файл может появится с задержкой, возможно потребуется вручную обновить список файлов). Вы можете проверить успешное создание файла базы данных любым удобным вам способом.\n",
    "\n",
    "#### Выполнение запросов к БД\n",
    "\n",
    "Вернемся к теме занятия. Если файл `test.db` появился в файловой системе, значит файл базы данных (БД) успешно создался.\n",
    "\n",
    "Наш `Python` интерпретатор все ещё работает. База данных не просто была создана, но мы к ней подключены и можем пользоваться ей. Давайте мы выполним запрос к СУБД, чтобы она вывела свою версию:"
   ]
  },
  {
   "cell_type": "code",
   "execution_count": 4,
   "id": "a899bead",
   "metadata": {},
   "outputs": [
    {
     "name": "stdout",
     "output_type": "stream",
     "text": [
      "SQLite version: ('3.37.0',)\n"
     ]
    }
   ],
   "source": [
    "cursor = connection.cursor() #любое взаимоедействие с БД происходит через указатель на нее (курсор)\n",
    "cursor.execute('SELECT SQLITE_VERSION()') #вот так можно делать запросы к базе данных\n",
    "data = cursor.fetchall()[0] #при помощи метода fetchall() мы получаем ответ на сделанный запрос.\n",
    "                            #Запишем его в переменную data\n",
    "print (\"SQLite version: {}\".format(data)) #при помощи функции print() выведем произвольный текст\n",
    "                                     #и при помощи метода .format() вставим в {} нужную переменную"
   ]
  },
  {
   "cell_type": "markdown",
   "id": "aaaad5b7",
   "metadata": {},
   "source": [
    "В коде выше мы вывели не версию `Python` пакета–«обёртки» `SQLite`, а версию самой СУБД, которая она хранит в служебной таблице «рядом» с «основными» данными. Тем же способом, сделав `SELECT` запрос мы можем получать и те данные, что, собственно, и хранятся в таблице. Например, это могла бы быть стоимость одной из существующих машин в базе данных.\n",
    "\n",
    "Так как созданная база данных пустая и в ней пока ничего нет, кроме служебных полей (например, полученной ранее версии), то заполним базу информацией. Пусть это будет информация о марках машин и их стоимости (описание данного кода будет представлено далее):"
   ]
  },
  {
   "cell_type": "code",
   "execution_count": 5,
   "id": "6b6ed14e",
   "metadata": {},
   "outputs": [
    {
     "data": {
      "text/plain": [
       "<sqlite3.Cursor at 0x1b4ab184650>"
      ]
     },
     "execution_count": 5,
     "metadata": {},
     "output_type": "execute_result"
    }
   ],
   "source": [
    "cursor.execute(\"CREATE TABLE if not exists cars (id INT, name TEXT, price INT)\")  \n",
    "\n",
    "cursor.execute(\"INSERT INTO cars VALUES(1,'Audi',52642)\")  \n",
    "cursor.execute(\"INSERT INTO cars VALUES(2,'Mercedes',57127)\")  \n",
    "cursor.execute(\"INSERT INTO cars VALUES(3,'Skoda',9000)\")  \n",
    "cursor.execute(\"INSERT INTO cars VALUES(4,'Volvo',29000)\")  \n",
    "cursor.execute(\"INSERT INTO cars VALUES(5,'Bentley',350000)\")  \n",
    "cursor.execute(\"INSERT INTO cars VALUES(6,'Citroen',21000)\")  \n",
    "cursor.execute(\"INSERT INTO cars VALUES(7,'Hummer',41400)\")  \n",
    "cursor.execute(\"INSERT INTO cars VALUES(8,'Volkswagen',21600)\")  "
   ]
  },
  {
   "cell_type": "markdown",
   "id": "b4c84194",
   "metadata": {},
   "source": [
    "#### Курсор в БД\n",
    "\n",
    "Как представлено выше, запросы выполняются через метод `cursor.execute()`, которому передаем текстовый запрос на языке `SQL`.\n",
    "\n",
    "Курсор – это именованная область памяти, содержащая результирующий набор запроса. В `SQLite` все манипуляции производятся через курсор. Курсор – это объект, позволяющий по отдельности обрабатывать строки из результирующего набора, возвращенного оператором `SELECT`.\n",
    "\n",
    "#### Оператор CREATE TABLE и таблицы в БД\n",
    "\n",
    "Первой строчкой мы создали таблицу `cars` (при помощи оператора `CREATE TABLE`), состоящей из трех полей:\n",
    "\n",
    "-   `id` – уникальный номер, целочисленный тип `INT`;\n",
    "\n",
    "-   `name` – марка машины, текстовый тип `TEXT`;\n",
    "\n",
    "-   `price` – стоимость машины, целочисленный тип `INT`.\n",
    "\n",
    "При этом при создании таблицы мы указали ключевое слово «`if not exists`», это означает, что таблица будет создана при условии её отсутствия. Наша данных была пустой, поэтому таблица `cars` будет создана и условие «`if not exists`» было указано только для расширения «кругозора» обучающегося.\n",
    "\n",
    "Таблицы – это и есть объекты, которые хранят все данные в базах данных. Обычно данные разделяются по таблицам, и указывается связь полей одних таблиц с полями других таблиц.\n",
    "\n",
    "Например, можно создать таблицу «`заказ`», которая будет связана по ключевым полям (которые указаны как внешний ключ) с таблицей «`товары`», и при этом в каждой новой записи в таблице «`заказ`» не потребуется хранить информацию о всех возможных «`товарах`», а будет хранится только `id` тех товаров, которые действительно указаны в этом заказе.\n",
    "\n",
    "Бывает так, что объем хранимой в БД информации очень большой, или же бывает необходимо увеличить скорость работы СУБД, поэтому БД бывают распределенные, т.е. когда таблицы логически единой БД хранятся на разных серверах/файлах.\n",
    "\n",
    "Например, шардинг (от англ. shard, термин без дословного перевода) – это метод разделения и хранения единого логического набора данных в виде множества баз данных (используется как один из способ горизонтального масштабирования БД).\n",
    "\n",
    "#### Оператор INSERT\n",
    "\n",
    "Вернемся к примеру кода, представленному ранее. После создания таблицы, выполняется ряд запросов, содержащих оператор `INSERT`, который в таблицу `cars` записывает несколько записей, каждая из которых содержит три значения: уникальный номер, марка машины и стоимость машины. Тем самым мы наполнили таблицу некоторым количеством данных.\n",
    "\n",
    "Давайте сделаем запрос всех данных из таблицы `cars:`"
   ]
  },
  {
   "cell_type": "code",
   "execution_count": 6,
   "id": "0a240fc2",
   "metadata": {},
   "outputs": [
    {
     "name": "stdout",
     "output_type": "stream",
     "text": [
      "[(1, 'Audi', 52642), (2, 'Mercedes', 57127), (3, 'Skoda', 9000), (4, 'Volvo', 29000), (5, 'Bentley', 350000), (6, 'Citroen', 21000), (7, 'Hummer', 41400), (8, 'Volkswagen', 21600)]\n"
     ]
    }
   ],
   "source": [
    "cursor.execute('SELECT * FROM cars')\n",
    "data = cursor.fetchall()\n",
    "print (data)"
   ]
  },
  {
   "cell_type": "markdown",
   "id": "0510a9f3",
   "metadata": {},
   "source": [
    "Все данные из таблицы мы записали в переменную `data` и выше видно, что они действительно корректно выводятся. Переменная `data` теперь хранит записи (строки) таблицы, но не имена её полей (имена колонок). Поэтому для обращения к данным необходимо указывать индексы. В примере ниже продемонстрированно, что с индексами вывод элемента работает, а с ключами – нет:"
   ]
  },
  {
   "cell_type": "code",
   "execution_count": 7,
   "id": "e924b40b",
   "metadata": {
    "tags": [
     "raises-exception"
    ]
   },
   "outputs": [
    {
     "name": "stdout",
     "output_type": "stream",
     "text": [
      "Audi\n"
     ]
    },
    {
     "ename": "TypeError",
     "evalue": "tuple indices must be integers or slices, not str",
     "output_type": "error",
     "traceback": [
      "\u001b[1;31m---------------------------------------------------------------------------\u001b[0m",
      "\u001b[1;31mTypeError\u001b[0m                                 Traceback (most recent call last)",
      "\u001b[1;32m~\\AppData\\Local\\Temp/ipykernel_13608/1544625299.py\u001b[0m in \u001b[0;36m<module>\u001b[1;34m\u001b[0m\n\u001b[0;32m      1\u001b[0m \u001b[0mprint\u001b[0m\u001b[1;33m(\u001b[0m\u001b[0mdata\u001b[0m\u001b[1;33m[\u001b[0m\u001b[1;36m0\u001b[0m\u001b[1;33m]\u001b[0m\u001b[1;33m[\u001b[0m\u001b[1;36m1\u001b[0m\u001b[1;33m]\u001b[0m\u001b[1;33m)\u001b[0m \u001b[1;31m# сработает\u001b[0m\u001b[1;33m\u001b[0m\u001b[1;33m\u001b[0m\u001b[0m\n\u001b[1;32m----> 2\u001b[1;33m \u001b[0mprint\u001b[0m\u001b[1;33m(\u001b[0m\u001b[0mdata\u001b[0m\u001b[1;33m[\u001b[0m\u001b[1;36m0\u001b[0m\u001b[1;33m]\u001b[0m\u001b[1;33m[\u001b[0m\u001b[1;34m\"name\"\u001b[0m\u001b[1;33m]\u001b[0m\u001b[1;33m)\u001b[0m \u001b[1;31m# выведет ошибку\u001b[0m\u001b[1;33m\u001b[0m\u001b[1;33m\u001b[0m\u001b[0m\n\u001b[0m",
      "\u001b[1;31mTypeError\u001b[0m: tuple indices must be integers or slices, not str"
     ]
    }
   ],
   "source": [
    "print(data[0][1]) # сработает  \n",
    "print(data[0][\"name\"]) # выведет ошибку  "
   ]
  },
  {
   "cell_type": "markdown",
   "id": "95f09cf6",
   "metadata": {},
   "source": [
    "В выводимой ошибке сообщено, что `data` – это кортеж. А как уже было рассмотрено, у кортежей есть только индексы, и нет ключей как у словарей.\n",
    "\n",
    "#### Создание именованного датафрейма из таблицы SQLite\n",
    "\n",
    "Через функцию `print()` неудобно воспринимать содержимое таблицы данных. Давайте воспользуемся представлением данных, которое нам дает библиотека `pandas` – а именно структура `DataFrame`, которую мы изучали ранее и которая является двухмерной маркированной структурой. Т.е. `DataFrame` идеально подходит для представления и манипуляции табличными данными.\n",
    "\n",
    "Для начала, вспомним о структурах хранения данных в `Pandas`. Основными являются `Series` и `DataFrame`.\n",
    "\n",
    "`Series` – это проиндексированный одномерный массив значений. Он похож на простой словарь типа `dict`, где имя элемента будет соответствовать индексу, а значение – значению записи.\n",
    "\n",
    "`DataFrame` — это проиндексированный многомерный массив значений, соответственно каждый столбец `DataFrame`, является структурой `Series`.\n",
    "\n",
    "##### Первый способ создания датафрейма из таблицы\n",
    "\n",
    "В коде ниже создается `DataFrame` с именем `df`, у которого в качестве строк – строки из переменной `data`, а в качестве имен столбцов устанавливаются имена из переменной `column_names` (откуда она появляется рассмотрим после кода). Импортируем модуль `pandas` и создадим структуру `DataFrame`, заполненную данными из таблицы `cars`."
   ]
  },
  {
   "cell_type": "code",
   "execution_count": 8,
   "id": "ff174604",
   "metadata": {},
   "outputs": [
    {
     "name": "stdout",
     "output_type": "stream",
     "text": [
      "(('id', None, None, None, None, None, None), ('name', None, None, None, None, None, None), ('price', None, None, None, None, None, None))\n",
      "Audi\n"
     ]
    },
    {
     "data": {
      "text/html": [
       "<div>\n",
       "<style scoped>\n",
       "    .dataframe tbody tr th:only-of-type {\n",
       "        vertical-align: middle;\n",
       "    }\n",
       "\n",
       "    .dataframe tbody tr th {\n",
       "        vertical-align: top;\n",
       "    }\n",
       "\n",
       "    .dataframe thead th {\n",
       "        text-align: right;\n",
       "    }\n",
       "</style>\n",
       "<table border=\"1\" class=\"dataframe\">\n",
       "  <thead>\n",
       "    <tr style=\"text-align: right;\">\n",
       "      <th></th>\n",
       "      <th>id</th>\n",
       "      <th>name</th>\n",
       "      <th>price</th>\n",
       "    </tr>\n",
       "  </thead>\n",
       "  <tbody>\n",
       "    <tr>\n",
       "      <th>0</th>\n",
       "      <td>1</td>\n",
       "      <td>Audi</td>\n",
       "      <td>52642</td>\n",
       "    </tr>\n",
       "    <tr>\n",
       "      <th>1</th>\n",
       "      <td>2</td>\n",
       "      <td>Mercedes</td>\n",
       "      <td>57127</td>\n",
       "    </tr>\n",
       "    <tr>\n",
       "      <th>2</th>\n",
       "      <td>3</td>\n",
       "      <td>Skoda</td>\n",
       "      <td>9000</td>\n",
       "    </tr>\n",
       "    <tr>\n",
       "      <th>3</th>\n",
       "      <td>4</td>\n",
       "      <td>Volvo</td>\n",
       "      <td>29000</td>\n",
       "    </tr>\n",
       "    <tr>\n",
       "      <th>4</th>\n",
       "      <td>5</td>\n",
       "      <td>Bentley</td>\n",
       "      <td>350000</td>\n",
       "    </tr>\n",
       "    <tr>\n",
       "      <th>5</th>\n",
       "      <td>6</td>\n",
       "      <td>Citroen</td>\n",
       "      <td>21000</td>\n",
       "    </tr>\n",
       "    <tr>\n",
       "      <th>6</th>\n",
       "      <td>7</td>\n",
       "      <td>Hummer</td>\n",
       "      <td>41400</td>\n",
       "    </tr>\n",
       "    <tr>\n",
       "      <th>7</th>\n",
       "      <td>8</td>\n",
       "      <td>Volkswagen</td>\n",
       "      <td>21600</td>\n",
       "    </tr>\n",
       "  </tbody>\n",
       "</table>\n",
       "</div>"
      ],
      "text/plain": [
       "   id        name   price\n",
       "0   1        Audi   52642\n",
       "1   2    Mercedes   57127\n",
       "2   3       Skoda    9000\n",
       "3   4       Volvo   29000\n",
       "4   5     Bentley  350000\n",
       "5   6     Citroen   21000\n",
       "6   7      Hummer   41400\n",
       "7   8  Volkswagen   21600"
      ]
     },
     "execution_count": 8,
     "metadata": {},
     "output_type": "execute_result"
    }
   ],
   "source": [
    "import pandas as pd\n",
    "\n",
    "#получение имени столбцов из описания курсора\n",
    "column_names=[]\n",
    "print (cursor.description)\n",
    "for row in cursor.description:\n",
    "    column_names.append(row[0])\n",
    "\n",
    "df = pd.DataFrame(data, columns=column_names) #в качестве исходных данных берем полученную ранее data\n",
    "                                        #проставим имена колонок, хранящиеся в массиве column_names\n",
    "print (df['name'][0])\n",
    "df"
   ]
  },
  {
   "cell_type": "markdown",
   "id": "90dac504",
   "metadata": {},
   "source": [
    "Таблица 1. Содержимое таблицы `cars`\n",
    "\n",
    "Тут имена столбцов мы получили из `cursor.description` (т.е. из описания курсора), который хранит метаинформацию из последнего выполненного запроса `cursor.execute()`. В данном случае мы видим, что в описании курсора есть имена колонок, поэтому мы «переписали» их в переменную `column_names`, которую дальше указали как имена колонок `pandas` датафрейма.\n",
    "\n",
    "В представленном ранее примере продемонстрировано, что теперь, используя «`df['name'][0]`», мы можем обращаться к полю столбца `name` нулевой строчки.\n",
    "\n",
    "Если бы мы не устанавливали имена столбцов, то пришлось бы использовать «`df[1][0]`» для вывода этого же поля (если хотите попробовать, удалите «`columns=column_names`» и вместо «`print (df['name'][0])`» напишите «`print (df[1][0])`»).\n",
    "\n",
    "##### Второй способ создания датафрейма из таблицы\n",
    "\n",
    "Так же имена столбцов можно получить другим способо – из запроса служебной метаинформации при помощи «`PRAGMA table_info(cars)`», это продемонстрировано ниже. Итоговый датафрейм полностью аналогичен предыдущему:"
   ]
  },
  {
   "cell_type": "code",
   "execution_count": 9,
   "id": "5ff7d4a8",
   "metadata": {},
   "outputs": [
    {
     "data": {
      "text/html": [
       "<div>\n",
       "<style scoped>\n",
       "    .dataframe tbody tr th:only-of-type {\n",
       "        vertical-align: middle;\n",
       "    }\n",
       "\n",
       "    .dataframe tbody tr th {\n",
       "        vertical-align: top;\n",
       "    }\n",
       "\n",
       "    .dataframe thead th {\n",
       "        text-align: right;\n",
       "    }\n",
       "</style>\n",
       "<table border=\"1\" class=\"dataframe\">\n",
       "  <thead>\n",
       "    <tr style=\"text-align: right;\">\n",
       "      <th></th>\n",
       "      <th>id</th>\n",
       "      <th>name</th>\n",
       "      <th>price</th>\n",
       "    </tr>\n",
       "  </thead>\n",
       "  <tbody>\n",
       "    <tr>\n",
       "      <th>0</th>\n",
       "      <td>1</td>\n",
       "      <td>Audi</td>\n",
       "      <td>52642</td>\n",
       "    </tr>\n",
       "    <tr>\n",
       "      <th>1</th>\n",
       "      <td>2</td>\n",
       "      <td>Mercedes</td>\n",
       "      <td>57127</td>\n",
       "    </tr>\n",
       "    <tr>\n",
       "      <th>2</th>\n",
       "      <td>3</td>\n",
       "      <td>Skoda</td>\n",
       "      <td>9000</td>\n",
       "    </tr>\n",
       "    <tr>\n",
       "      <th>3</th>\n",
       "      <td>4</td>\n",
       "      <td>Volvo</td>\n",
       "      <td>29000</td>\n",
       "    </tr>\n",
       "    <tr>\n",
       "      <th>4</th>\n",
       "      <td>5</td>\n",
       "      <td>Bentley</td>\n",
       "      <td>350000</td>\n",
       "    </tr>\n",
       "    <tr>\n",
       "      <th>5</th>\n",
       "      <td>6</td>\n",
       "      <td>Citroen</td>\n",
       "      <td>21000</td>\n",
       "    </tr>\n",
       "    <tr>\n",
       "      <th>6</th>\n",
       "      <td>7</td>\n",
       "      <td>Hummer</td>\n",
       "      <td>41400</td>\n",
       "    </tr>\n",
       "    <tr>\n",
       "      <th>7</th>\n",
       "      <td>8</td>\n",
       "      <td>Volkswagen</td>\n",
       "      <td>21600</td>\n",
       "    </tr>\n",
       "  </tbody>\n",
       "</table>\n",
       "</div>"
      ],
      "text/plain": [
       "   id        name   price\n",
       "0   1        Audi   52642\n",
       "1   2    Mercedes   57127\n",
       "2   3       Skoda    9000\n",
       "3   4       Volvo   29000\n",
       "4   5     Bentley  350000\n",
       "5   6     Citroen   21000\n",
       "6   7      Hummer   41400\n",
       "7   8  Volkswagen   21600"
      ]
     },
     "execution_count": 9,
     "metadata": {},
     "output_type": "execute_result"
    }
   ],
   "source": [
    "#или можно было именя столбоцов получить из информации о таблице\n",
    "cursor.execute('PRAGMA table_info(cars)')\n",
    "names = cursor.fetchall()\n",
    "column_names=[]\n",
    "for index in enumerate(names):\n",
    "    column_names.append(index[1][1])\n",
    "\n",
    "df = pd.DataFrame(data, columns=column_names)\n",
    "df"
   ]
  },
  {
   "cell_type": "markdown",
   "id": "2ff0a4a0",
   "metadata": {},
   "source": [
    "##### Третий способ создания датафрейма из таблицы\n",
    "\n",
    "Как можно было понять из проделанного, выше курсор по умолчанию возвращает данные в виде кортежа кортежей. Мы можем переключить курсор на иной режим работы, т.е. режим – когда вместо кортежей он будет возвращать словари.\n",
    "\n",
    "У кортежей есть только индексы, а у словарей индексами может быть не только число, но и текстовый ключ. Таким образом, мы можем ссылаться на данные по их именам столбцов:"
   ]
  },
  {
   "cell_type": "code",
   "execution_count": 10,
   "id": "c0e4452b",
   "metadata": {},
   "outputs": [
    {
     "name": "stdout",
     "output_type": "stream",
     "text": [
      "1 Audi 52642\n",
      "2 Mercedes 57127\n",
      "3 Skoda 9000\n",
      "4 Volvo 29000\n",
      "5 Bentley 350000\n",
      "6 Citroen 21000\n",
      "7 Hummer 41400\n",
      "8 Volkswagen 21600\n",
      "\n",
      "Выведем 6 строку столбца name: Citroen\n"
     ]
    }
   ],
   "source": [
    "connection.row_factory = sqlite3.Row\n",
    "cursor = connection.cursor()\n",
    "cursor.execute(\"SELECT * FROM cars\")\n",
    "rows = cursor.fetchall()\n",
    "for row in rows:\n",
    "    print (\"{} {} {}\".format(row[0], row[1], row[2]))\n",
    "print ()\n",
    "print (\"Выведем 6 строку столбца name: {}\".format(rows[6-1][\"name\"])) #-1 т.к. id не с нуля\n",
    "\n",
    "connection.row_factory = None #вернем к курсору по умолчанию - \"кортеж кортежей\"\n",
    "cursor = connection.cursor() #обновим курсор"
   ]
  },
  {
   "cell_type": "markdown",
   "id": "1e645f25",
   "metadata": {},
   "source": [
    "#### Аналитика данных и вычисление метрик (средствами SQL)\n",
    "\n",
    "Выведем данные графически в виде столбиковой диаграммы при помощи библиотеки `matplotlib`."
   ]
  },
  {
   "cell_type": "code",
   "execution_count": 11,
   "id": "aea93d03",
   "metadata": {},
   "outputs": [
    {
     "data": {
      "text/plain": [
       "<AxesSubplot:xlabel='name'>"
      ]
     },
     "execution_count": 11,
     "metadata": {},
     "output_type": "execute_result"
    },
    {
     "data": {
      "image/png": "[encoded data removed]",
      "text/plain": [
       "<Figure size 432x288 with 1 Axes>"
      ]
     },
     "metadata": {
      "needs_background": "light"
     },
     "output_type": "display_data"
    }
   ],
   "source": [
    "import matplotlib.pyplot as plt\n",
    "df.plot(x='name', y='price', kind=\"bar\", grid=True)"
   ]
  },
  {
   "cell_type": "markdown",
   "id": "64403c00",
   "metadata": {},
   "source": [
    "Рис. 1. Данные о ценах автомобилей\n",
    "\n",
    "##### Агрегатные функции\n",
    "\n",
    "Смотря на данные из вывода выше представленного примера, мы уже можем сделать вывод, что нас может интересовать некоторый ряд стандартных статистических метрик (например, средняя цена автомобилей). Так же в продажной сфере бывают метрики «средний чек» и многие другие, возникновение которых обусловлено бизнес–стратегией. Тем самым, что угодно можно назвать метрикой.\n",
    "\n",
    "`SQLite` предоставляет следующие агрегатные функции языка `SQL`:\n",
    "\n",
    "-   `AVG()` – возвращает среднее значение группы;\n",
    "\n",
    "-   `COUNT()` – возвращает количество строк, соответствующих указанному условию;\n",
    "\n",
    "-   `MAX()` – возвращает максимальное значение в группе;\n",
    "\n",
    "-   `MIN()` – возвращает минимальное значение в группе;\n",
    "\n",
    "-   `SUM()` – возвращает сумму значений;\n",
    "\n",
    "-   `GROUP_CONCAT(выражение, разделитель)` – возвращает строку, которая представляет собой объединение всех ненулевых значений.\n",
    "\n",
    "##### Функция GROUP_CONCAT\n",
    "\n",
    "Рассмотрим сперва самую последнюю в представленном выше списке – функцию `GROUP_CONCAT(выражение, разделитель)`. Так как она возвращает текст, а текст вряд ли можно отнести к количественному показателю и его вряд ли можно назвать метрикой. А дальше мы будем рассматривать именно метрики.\n",
    "\n",
    "`GROUP_CONCAT` объединяет строки и выражением в ней может быть, например, имя столбца – тогда весь текст со всех строк­ сложится и будет разделен разделителем. По умолчанию разделителем является запятая. По реальному примеру проще понять суть этой функции:"
   ]
  },
  {
   "cell_type": "code",
   "execution_count": 12,
   "id": "f6022cb9",
   "metadata": {},
   "outputs": [
    {
     "name": "stdout",
     "output_type": "stream",
     "text": [
      "Все доступные марки: Audi,Mercedes,Skoda,Volvo,Bentley,Citroen,Hummer,Volkswagen\n"
     ]
    }
   ],
   "source": [
    "cursor.execute(\"SELECT GROUP_CONCAT(name) FROM cars;\")\n",
    "data = cursor.fetchone()\n",
    "print (\"Все доступные марки: {}\".format(data[0]))"
   ]
  },
  {
   "cell_type": "markdown",
   "id": "b392ddc8",
   "metadata": {},
   "source": [
    "##### Функция MIN (метрика «самая дешевая машина»)\n",
    "\n",
    "Ниже приведен пример использования `SQL` функции `MIN` для вычисления метрики «самая дешевая машина»:"
   ]
  },
  {
   "cell_type": "code",
   "execution_count": 13,
   "id": "89756aaa",
   "metadata": {},
   "outputs": [
    {
     "name": "stdout",
     "output_type": "stream",
     "text": [
      "Минимальная цена машины: 9000\n",
      "Марка самой дешевой машины: Skoda\n"
     ]
    }
   ],
   "source": [
    "cursor.execute(\"SELECT MIN(price) FROM cars;\")\n",
    "data = cursor.fetchone()\n",
    "print (\"Минимальная цена машины: {}\".format(data[0]))\n",
    "\n",
    "cursor.execute(\"SELECT name FROM cars WHERE price=(SELECT MIN(price) FROM cars);\")\n",
    "data = cursor.fetchone()\n",
    "print (\"Марка самой дешевой машины: {}\".format(data[0]))"
   ]
  },
  {
   "cell_type": "markdown",
   "id": "b0729817",
   "metadata": {},
   "source": [
    "##### Функция Count и оператор WHERE. Метрика «количество машин со стоимостью выше 10000» и вывод их id. Запрос фильтра метрики у пользователя\n",
    "\n",
    "Ниже приведен пример использования `SQL` функции `Count` для вычисления метрики «количество машин со стоимостью выше 10000»:"
   ]
  },
  {
   "cell_type": "code",
   "execution_count": 14,
   "id": "99e3db85",
   "metadata": {},
   "outputs": [
    {
     "name": "stdout",
     "output_type": "stream",
     "text": [
      "Сколько машин имеет стоимость выше 10000: 7\n"
     ]
    }
   ],
   "source": [
    "cursor.execute(\"SELECT Count(id) FROM cars WHERE price>10000;\")\n",
    "data = cursor.fetchone()\n",
    "print (\"Сколько машин имеет стоимость выше 10000: {}\".format(data[0]))"
   ]
  },
  {
   "cell_type": "markdown",
   "id": "8dc14ff3",
   "metadata": {},
   "source": [
    "Ниже приведен пример запроса, который возвращает уникальный номер машин, цена которых выше 10000:"
   ]
  },
  {
   "cell_type": "code",
   "execution_count": 15,
   "id": "9be536d6",
   "metadata": {},
   "outputs": [
    {
     "name": "stdout",
     "output_type": "stream",
     "text": [
      "[(1,), (2,), (4,), (5,), (6,), (7,), (8,)]\n",
      "Машины с этим ID имеют стоимость выше 10000:\n",
      "1,2,4,5,6,7,8,"
     ]
    }
   ],
   "source": [
    "cursor.execute(\"SELECT id FROM cars WHERE price>10000 GROUP BY id;\")\n",
    "data = cursor.fetchall()\n",
    "print(data)\n",
    "\n",
    "print (\"Машины с этим ID имеют стоимость выше 10000:\")\n",
    "for i in data:\n",
    "    print (i[0], end=',')"
   ]
  },
  {
   "cell_type": "markdown",
   "id": "d083fc01",
   "metadata": {},
   "source": [
    "Функция `input()` позволяет запросить у пользователя необходимую информацию (рассматривали её ранее). Запустите представленный ниже код и введите интересующую вас минимальную стоимость автомобилей."
   ]
  },
  {
   "cell_type": "code",
   "execution_count": 16,
   "id": "f6db849e",
   "metadata": {},
   "outputs": [
    {
     "name": "stdout",
     "output_type": "stream",
     "text": [
      "Начиная с какой стоимости вас интересуют машины?\n"
     ]
    },
    {
     "name": "stdin",
     "output_type": "stream",
     "text": [
      " 10000\n"
     ]
    },
    {
     "name": "stdout",
     "output_type": "stream",
     "text": [
      "Машины с этим ID имеют стоимость выше 10000:\n",
      "1,2,4,5,6,7,8,"
     ]
    }
   ],
   "source": [
    "print (\"Начиная с какой стоимости вас интересуют машины?\")\n",
    "my_price=input()\n",
    "cursor.execute(f\"SELECT id FROM cars WHERE price>{my_price} GROUP BY id;\")\n",
    "data = cursor.fetchall()\n",
    "\n",
    "print (\"Машины с этим ID имеют стоимость выше {}:\".format(my_price))\n",
    "for i in data:\n",
    "    print (i[0], end=',')"
   ]
  },
  {
   "cell_type": "markdown",
   "id": "cf389054",
   "metadata": {},
   "source": [
    "##### Работа с несколькими таблицами (агрегация данных на базе внешних ключей)\n",
    "\n",
    "Создадим таблицу, содержащую имя покупателя и имя товара, которое он купил и в каком количестве."
   ]
  },
  {
   "cell_type": "code",
   "execution_count": 17,
   "id": "bc8b44b9",
   "metadata": {},
   "outputs": [
    {
     "data": {
      "text/plain": [
       "<sqlite3.Cursor at 0x1b4ad563c70>"
      ]
     },
     "execution_count": 17,
     "metadata": {},
     "output_type": "execute_result"
    }
   ],
   "source": [
    "cursor.execute (\" \\\n",
    "CREATE TABLE if not exists orders ( \\\n",
    "  id INTEGER PRIMARY KEY AUTOINCREMENT NOT NULL,  \\\n",
    "  customer_name TEXT, quantity INT, buyed_car_id INT, \\\n",
    "  FOREIGN KEY(buyed_car_id) REFERENCES cars (id) \\\n",
    ")\")"
   ]
  },
  {
   "cell_type": "markdown",
   "id": "5c193d5b",
   "metadata": {},
   "source": [
    "В коде выше мы создали таблицу, у которой есть внешний ключ. Т.е. обратим внимание на следующую часть:\n",
    "\n",
    "``` sql\n",
    "buyed_car_id INT,FOREIGN KEY(buyed_car_id) REFERENCES cars (id)  \n",
    "```\n",
    "\n",
    "где поле `buyed_car_id` имеет целочисленный тип INT, а далее при помощи атрибута `FOREIGN KEY` указывается, что это поле (поле `buyed_car_id`) ссылается на поле `id` таблицы `cars`.\n",
    "\n",
    "Знак «`\\`» расставлен вручную и служит для переноса строк кода, чтобы сохранить его читаемость.\n",
    "\n",
    "Именно при помощи внешних ключей и производится связь нескольких таблиц в единую схему данных. Теперь используя поле `buyed_car_id` мы имеем возможность объединять запросы в таблицах.\n",
    "\n",
    "Например, имея таблицы `orders` (заказы) и `cars` (машины) мы можем подсчитывать сумму заказа или выводить имя машин (марку), кроме того, чтобы можем выводить какие `id` машин содержатся в заказе.\n",
    "\n",
    "Заполним таблицу тремя заказами и посмотрим на них."
   ]
  },
  {
   "cell_type": "code",
   "execution_count": 18,
   "id": "24e25af4",
   "metadata": {},
   "outputs": [
    {
     "name": "stdout",
     "output_type": "stream",
     "text": [
      "[(1, 'Pavel', 2, 3), (2, 'Ramil', 4, 3), (3, 'Maryanna', 1, 6)]\n"
     ]
    }
   ],
   "source": [
    "cursor.execute(\"INSERT INTO orders (customer_name, quantity, buyed_car_id) VALUES('Pavel',2,3)\")\n",
    "cursor.execute(\"INSERT INTO orders (customer_name, quantity, buyed_car_id) VALUES('Ramil',4,3)\")\n",
    "cursor.execute(\"INSERT INTO orders (customer_name, quantity, buyed_car_id) VALUES('Maryanna',1,6)\")\n",
    "\n",
    "cursor.execute(\"SELECT * FROM orders\")\n",
    "data = cursor.fetchall()\n",
    "print (data)"
   ]
  },
  {
   "cell_type": "markdown",
   "id": "d74fbb5c",
   "metadata": {},
   "source": [
    "Эти данные несут в себе «кусочек» информации, который, если дополнить данными из таблицы `cars –` то получится представленный в таблице ниже и вполне понятный набор данных (Таблица 2, как получить такую таблицу – рассмотрим позже).\n",
    "\n",
    "Таблица 2. Развернутый смысл таблицы `orders` (заказы)\n",
    "\n",
    "<table>\n",
    "<colgroup>\n",
    "<col style=\"width: 3%\" />\n",
    "<col style=\"width: 11%\" />\n",
    "<col style=\"width: 12%\" />\n",
    "<col style=\"width: 11%\" />\n",
    "<col style=\"width: 11%\" />\n",
    "<col style=\"width: 16%\" />\n",
    "<col style=\"width: 10%\" />\n",
    "<col style=\"width: 11%\" />\n",
    "<col style=\"width: 11%\" />\n",
    "</colgroup>\n",
    "<thead>\n",
    "<tr class=\"header\">\n",
    "<th>\n",
    "</th>\n",
    "<th>\n",
    "\n",
    "<strong>id заказа</strong>\n",
    "\n",
    "</th>\n",
    "<th>\n",
    "\n",
    "<strong>Марка машины</strong>\n",
    "\n",
    "</th>\n",
    "<th>\n",
    "\n",
    "<strong>Цена машины</strong>\n",
    "\n",
    "</th>\n",
    "<th>\n",
    "\n",
    "<strong>id машины</strong>\n",
    "\n",
    "</th>\n",
    "<th>\n",
    "\n",
    "<strong>Имя покупателя</strong>\n",
    "\n",
    "</th>\n",
    "<th>\n",
    "\n",
    "<strong>Кол–во</strong>\n",
    "\n",
    "</th>\n",
    "<th>\n",
    "\n",
    "<strong>id машины</strong>\n",
    "\n",
    "</th>\n",
    "<th>\n",
    "\n",
    "<strong>Сумма заказа</strong>\n",
    "\n",
    "</th>\n",
    "</tr>\n",
    "</thead>\n",
    "<tbody>\n",
    "<tr class=\"odd\">\n",
    "<td>\n",
    "\n",
    "<strong>0</strong>\n",
    "\n",
    "</td>\n",
    "<td>\n",
    "\n",
    "3\n",
    "\n",
    "</td>\n",
    "<td>\n",
    "\n",
    "Skoda\n",
    "\n",
    "</td>\n",
    "<td>\n",
    "\n",
    "9000\n",
    "\n",
    "</td>\n",
    "<td>\n",
    "\n",
    "1\n",
    "\n",
    "</td>\n",
    "<td>\n",
    "\n",
    "Pavel\n",
    "\n",
    "</td>\n",
    "<td>\n",
    "\n",
    "2\n",
    "\n",
    "</td>\n",
    "<td>\n",
    "\n",
    "3\n",
    "\n",
    "</td>\n",
    "<td>\n",
    "\n",
    "18000\n",
    "\n",
    "</td>\n",
    "</tr>\n",
    "<tr class=\"even\">\n",
    "<td>\n",
    "\n",
    "<strong>1</strong>\n",
    "\n",
    "</td>\n",
    "<td>\n",
    "\n",
    "3\n",
    "\n",
    "</td>\n",
    "<td>\n",
    "\n",
    "Skoda\n",
    "\n",
    "</td>\n",
    "<td>\n",
    "\n",
    "9000\n",
    "\n",
    "</td>\n",
    "<td>\n",
    "\n",
    "2\n",
    "\n",
    "</td>\n",
    "<td>\n",
    "\n",
    "Ramil\n",
    "\n",
    "</td>\n",
    "<td>\n",
    "\n",
    "4\n",
    "\n",
    "</td>\n",
    "<td>\n",
    "\n",
    "3\n",
    "\n",
    "</td>\n",
    "<td>\n",
    "\n",
    "36000\n",
    "\n",
    "</td>\n",
    "</tr>\n",
    "<tr class=\"odd\">\n",
    "<td>\n",
    "\n",
    "<strong>2</strong>\n",
    "\n",
    "</td>\n",
    "<td>\n",
    "\n",
    "6\n",
    "\n",
    "</td>\n",
    "<td>\n",
    "\n",
    "Citroen\n",
    "\n",
    "</td>\n",
    "<td>\n",
    "\n",
    "21000\n",
    "\n",
    "</td>\n",
    "<td>\n",
    "\n",
    "3\n",
    "\n",
    "</td>\n",
    "<td>\n",
    "\n",
    "Maryanna\n",
    "\n",
    "</td>\n",
    "<td>\n",
    "\n",
    "1\n",
    "\n",
    "</td>\n",
    "<td>\n",
    "\n",
    "6\n",
    "\n",
    "</td>\n",
    "<td>\n",
    "\n",
    "21000\n",
    "\n",
    "</td>\n",
    "</tr>\n",
    "</tbody>\n",
    "</table>\n",
    "\n",
    "##### Оператор JOIN\n",
    "\n",
    "Подсчитаем на какую сумму было куплено машин в рамках одного заказа средствами `Python`. Данный код содержит оператор объединения таблиц `LEFT JOIN`, который соединит таблицу `cars` с таблицей `orders` по условию соответствия `orders.buyed_car_id=cars.id` (т.е. по внешнему ключу).\n",
    "\n",
    "Так как мы именно к `cars` присоединяем `orders`, а не наоборот, то соединение произойдет даже если заказа не существует, но в этом случае некоторые поля, например, количество машин в заказе будет пустым, т.е. `None.`\n",
    "\n",
    "Конечно, обычно так не делают, и, например – в подобном случае к заказам присоединяют машины. Но пока будет сделано так (сделать иначе при помощи оператора `GROUP BY`)."
   ]
  },
  {
   "cell_type": "code",
   "execution_count": 19,
   "id": "fe6e73d5",
   "metadata": {},
   "outputs": [
    {
     "name": "stdout",
     "output_type": "stream",
     "text": [
      "     0           1       2\n",
      "0  NaN        Audi   52642\n",
      "1  NaN    Mercedes   57127\n",
      "2  2.0       Skoda    9000\n",
      "3  4.0       Skoda    9000\n",
      "4  NaN       Volvo   29000\n",
      "5  NaN     Bentley  350000\n",
      "6  1.0     Citroen   21000\n",
      "7  NaN      Hummer   41400\n",
      "8  NaN  Volkswagen   21600\n",
      "Audi: 0\n",
      "Mercedes: 0\n",
      "Skoda: 18000\n",
      "Skoda: 36000\n",
      "Volvo: 0\n",
      "Bentley: 0\n",
      "Citroen: 21000\n",
      "Hummer: 0\n",
      "Volkswagen: 0\n"
     ]
    }
   ],
   "source": [
    "cursor.execute(\n",
    "    \"SELECT orders.quantity,cars.name,cars.price FROM cars LEFT JOIN orders ON orders.buyed_car_id=cars.id\"\n",
    ")\n",
    "data = cursor.fetchall()\n",
    "df = pd.DataFrame(data)\n",
    "print (df)\n",
    "for i in data:\n",
    "    print(\"{}:\".format(i[1]), int(0 if i[0] is None else i[0]) * i[2])"
   ]
  },
  {
   "cell_type": "markdown",
   "id": "9dddb679",
   "metadata": {},
   "source": [
    "В коде выше («`0 if i[0] is None else i[0]`») если первое поле записи пустое (означает сколько таких машин в этом конкретном заказе), т.е. имеет тип `None`, то значение суммы этих машин в заказе записывается нулевое, а если значение в этом поле ненулевое, то происходит умножение количества машин `i[0]` в заказе на стоимость машины `i[2]`. И так для каждой итерируемой записи `data`.\n",
    "\n",
    "Обратите внимание на вывод кода выше – машина `Skoda` повторяется два раза. Это потому, что она есть в двух разных заказах (каждый из которых сделан разными людьми, хотя это никак не влияет). Выше представленный код не вычисляет сумму всех заказов всех пользователей, и не вычисляет полную сумму заказа одного пользователя. Он вычисляет сумму записи (строчки) в таблице заказа (а она состоит из цены машины и количества машин этой марки в текущей записи).\n",
    "\n",
    "Т.е. известно, что в реальном мире человек может заказать разный товар одним заказом. Но в данных, записанных в таблицу, в таблице `orders` нет таких записей, в которых `id` заказа одинаков. Поэтому и в данном коде мы никак не учли, что заказ может состоять из разных товаров (или даже из двух однотипных, если их пробили отдельно по 1шт.) – это не является текущей первоочередной задачей.\n",
    "\n",
    "Ту же самую логику, что и в примере выше, мы могли реализовать средствами `SQL`, как представлено ниже, и это выглядит даже проще (т.е. понятнее):"
   ]
  },
  {
   "cell_type": "code",
   "execution_count": 20,
   "id": "d493d433",
   "metadata": {},
   "outputs": [
    {
     "name": "stdout",
     "output_type": "stream",
     "text": [
      "            0           1\n",
      "0        Audi  вставьте 0\n",
      "1    Mercedes  вставьте 0\n",
      "2       Skoda     18000.0\n",
      "3       Skoda     36000.0\n",
      "4       Volvo  вставьте 0\n",
      "5     Bentley  вставьте 0\n",
      "6     Citroen     21000.0\n",
      "7      Hummer  вставьте 0\n",
      "8  Volkswagen  вставьте 0\n"
     ]
    }
   ],
   "source": [
    "cursor.execute(\"SELECT name, orders.quantity*cars.price FROM cars LEFT JOIN orders ON orders.buyed_car_id=cars.id\")\n",
    "df = pd.DataFrame(cursor.fetchall())\n",
    "print (df.fillna('вставьте 0')) #c заменой NaN/None"
   ]
  },
  {
   "cell_type": "markdown",
   "id": "a6fb84a7",
   "metadata": {},
   "source": [
    "Теперь расширим вывод. Пусть кроме произведения `orders.quantity*cars.price` так же выводится все, что только возможно. Для этого после `SELECT` укажем символ «`*`», который укажет, что необходимо вывести все доступные поля. Так же мы укажем «`WHERE orders.quantity*my_cars.price not null`», чтобы данные для «несуществующих» заказов больше не выводились:"
   ]
  },
  {
   "cell_type": "code",
   "execution_count": 21,
   "id": "e5319711",
   "metadata": {},
   "outputs": [
    {
     "name": "stdout",
     "output_type": "stream",
     "text": [
      "[(3, 'Skoda', 9000, 1, 'Pavel', 2, 3, 18000), (3, 'Skoda', 9000, 2, 'Ramil', 4, 3, 36000), (6, 'Citroen', 21000, 3, 'Maryanna', 1, 6, 21000)]\n",
      "   0        1      2  3         4  5  6      7\n",
      "0  3    Skoda   9000  1     Pavel  2  3  18000\n",
      "1  3    Skoda   9000  2     Ramil  4  3  36000\n",
      "2  6  Citroen  21000  3  Maryanna  1  6  21000\n"
     ]
    }
   ],
   "source": [
    "cursor.execute(\"SELECT *, orders.quantity*my_cars.price FROM cars AS my_cars LEFT JOIN orders ON orders.buyed_car_id=my_cars.id WHERE orders.quantity*my_cars.price not null\")\n",
    "data = cursor.fetchall()\n",
    "print(data)\n",
    "df = pd.DataFrame(data)\n",
    "print(df)"
   ]
  },
  {
   "cell_type": "markdown",
   "id": "ff51d78f",
   "metadata": {},
   "source": [
    "Стало больше полезной информации, но без имен колонок результаты непонятны. Поэтому добавим имена колонок уже изученным способом:"
   ]
  },
  {
   "cell_type": "code",
   "execution_count": 22,
   "id": "8f76c50c",
   "metadata": {},
   "outputs": [
    {
     "data": {
      "text/html": [
       "<div>\n",
       "<style scoped>\n",
       "    .dataframe tbody tr th:only-of-type {\n",
       "        vertical-align: middle;\n",
       "    }\n",
       "\n",
       "    .dataframe tbody tr th {\n",
       "        vertical-align: top;\n",
       "    }\n",
       "\n",
       "    .dataframe thead th {\n",
       "        text-align: right;\n",
       "    }\n",
       "</style>\n",
       "<table border=\"1\" class=\"dataframe\">\n",
       "  <thead>\n",
       "    <tr style=\"text-align: right;\">\n",
       "      <th></th>\n",
       "      <th>id</th>\n",
       "      <th>name</th>\n",
       "      <th>price</th>\n",
       "      <th>id</th>\n",
       "      <th>customer_name</th>\n",
       "      <th>quantity</th>\n",
       "      <th>buyed_car_id</th>\n",
       "      <th>orders.quantity*my_cars.price</th>\n",
       "    </tr>\n",
       "  </thead>\n",
       "  <tbody>\n",
       "    <tr>\n",
       "      <th>0</th>\n",
       "      <td>3</td>\n",
       "      <td>Skoda</td>\n",
       "      <td>9000</td>\n",
       "      <td>1</td>\n",
       "      <td>Pavel</td>\n",
       "      <td>2</td>\n",
       "      <td>3</td>\n",
       "      <td>18000</td>\n",
       "    </tr>\n",
       "    <tr>\n",
       "      <th>1</th>\n",
       "      <td>3</td>\n",
       "      <td>Skoda</td>\n",
       "      <td>9000</td>\n",
       "      <td>2</td>\n",
       "      <td>Ramil</td>\n",
       "      <td>4</td>\n",
       "      <td>3</td>\n",
       "      <td>36000</td>\n",
       "    </tr>\n",
       "    <tr>\n",
       "      <th>2</th>\n",
       "      <td>6</td>\n",
       "      <td>Citroen</td>\n",
       "      <td>21000</td>\n",
       "      <td>3</td>\n",
       "      <td>Maryanna</td>\n",
       "      <td>1</td>\n",
       "      <td>6</td>\n",
       "      <td>21000</td>\n",
       "    </tr>\n",
       "  </tbody>\n",
       "</table>\n",
       "</div>"
      ],
      "text/plain": [
       "   id     name  price  id customer_name  quantity  buyed_car_id  \\\n",
       "0   3    Skoda   9000   1         Pavel         2             3   \n",
       "1   3    Skoda   9000   2         Ramil         4             3   \n",
       "2   6  Citroen  21000   3      Maryanna         1             6   \n",
       "\n",
       "   orders.quantity*my_cars.price  \n",
       "0                          18000  \n",
       "1                          36000  \n",
       "2                          21000  "
      ]
     },
     "execution_count": 22,
     "metadata": {},
     "output_type": "execute_result"
    }
   ],
   "source": [
    "cursor.execute(\"SELECT *, orders.quantity*my_cars.price FROM cars AS my_cars LEFT JOIN orders ON orders.buyed_car_id=my_cars.id WHERE orders.quantity*my_cars.price not null\")\n",
    "data = cursor.fetchall()\n",
    "\n",
    "column_names = []\n",
    "for index in enumerate(cursor.description):\n",
    "    column_names.append(index[1][0])\n",
    "    \n",
    "df = pd.DataFrame(data, columns=column_names)\n",
    "# в качестве исходных данных берем data\n",
    "# проставим имена колонок, хранящиеся в массиве column_names\n",
    "df"
   ]
  },
  {
   "cell_type": "markdown",
   "id": "a24dc339",
   "metadata": {},
   "source": [
    "Таблица 3. Объединение таблиц `cars` и `orders` с выводом суммы\n",
    "\n",
    "Стало практически идеально к восприятию, но мы видим, что имена некоторых столбцов повторяются, а именно – совпали имена столбцов `id` машины и `id` заказа (соответственно колонкам).\n",
    "\n",
    "##### Оператор AS\n",
    "\n",
    "Чтобы привести таблицу к идеальному виду, воспользуемся оператором `AS`, который позволяет как изменять выводимые имена столбцов в итоговой таблице (результате запроса), так и устанавливать имена, по которым таблицы будут объединятся в секции `FROM:`"
   ]
  },
  {
   "cell_type": "code",
   "execution_count": 23,
   "id": "b66d6fd2",
   "metadata": {},
   "outputs": [
    {
     "data": {
      "text/html": [
       "<div>\n",
       "<style scoped>\n",
       "    .dataframe tbody tr th:only-of-type {\n",
       "        vertical-align: middle;\n",
       "    }\n",
       "\n",
       "    .dataframe tbody tr th {\n",
       "        vertical-align: top;\n",
       "    }\n",
       "\n",
       "    .dataframe thead th {\n",
       "        text-align: right;\n",
       "    }\n",
       "</style>\n",
       "<table border=\"1\" class=\"dataframe\">\n",
       "  <thead>\n",
       "    <tr style=\"text-align: right;\">\n",
       "      <th></th>\n",
       "      <th>id заказа</th>\n",
       "      <th>Марка машины</th>\n",
       "      <th>Цена машины</th>\n",
       "      <th>id машины</th>\n",
       "      <th>Имя покупателя</th>\n",
       "      <th>Кол-во</th>\n",
       "      <th>id машины</th>\n",
       "      <th>Сумма заказа</th>\n",
       "    </tr>\n",
       "  </thead>\n",
       "  <tbody>\n",
       "    <tr>\n",
       "      <th>0</th>\n",
       "      <td>1</td>\n",
       "      <td>Skoda</td>\n",
       "      <td>9000</td>\n",
       "      <td>3</td>\n",
       "      <td>Pavel</td>\n",
       "      <td>2</td>\n",
       "      <td>3</td>\n",
       "      <td>18000</td>\n",
       "    </tr>\n",
       "    <tr>\n",
       "      <th>1</th>\n",
       "      <td>2</td>\n",
       "      <td>Skoda</td>\n",
       "      <td>9000</td>\n",
       "      <td>3</td>\n",
       "      <td>Ramil</td>\n",
       "      <td>4</td>\n",
       "      <td>3</td>\n",
       "      <td>36000</td>\n",
       "    </tr>\n",
       "    <tr>\n",
       "      <th>2</th>\n",
       "      <td>3</td>\n",
       "      <td>Citroen</td>\n",
       "      <td>21000</td>\n",
       "      <td>6</td>\n",
       "      <td>Maryanna</td>\n",
       "      <td>1</td>\n",
       "      <td>6</td>\n",
       "      <td>21000</td>\n",
       "    </tr>\n",
       "  </tbody>\n",
       "</table>\n",
       "</div>"
      ],
      "text/plain": [
       "   id заказа Марка машины  Цена машины  id машины Имя покупателя  Кол-во  \\\n",
       "0          1        Skoda         9000          3          Pavel       2   \n",
       "1          2        Skoda         9000          3          Ramil       4   \n",
       "2          3      Citroen        21000          6       Maryanna       1   \n",
       "\n",
       "   id машины  Сумма заказа  \n",
       "0          3         18000  \n",
       "1          3         36000  \n",
       "2          6         21000  "
      ]
     },
     "execution_count": 23,
     "metadata": {},
     "output_type": "execute_result"
    }
   ],
   "source": [
    "cursor.execute(\n",
    "    \" \\\n",
    " SELECT \\\n",
    "  orders.id AS 'id заказа', \\\n",
    "  my_cars.name AS 'Марка машины', \\\n",
    "  price AS 'Цена машины', \\\n",
    "  my_cars.id AS 'id машины', \\\n",
    "  customer_name AS 'Имя покупателя', \\\n",
    "  quantity AS 'Кол-во', \\\n",
    "  buyed_car_id AS 'id машины', \\\n",
    "  orders.quantity * my_cars.price as 'Сумма заказа' \\\n",
    "FROM \\\n",
    "  cars AS my_cars \\\n",
    "  LEFT JOIN orders ON orders.buyed_car_id = my_cars.id \\\n",
    "WHERE \\\n",
    "  orders.quantity * my_cars.price not null\"\n",
    ")\n",
    "data = cursor.fetchall()\n",
    "column_names = []\n",
    "for index in enumerate(cursor.description):\n",
    "    column_names.append(index[1][0])\n",
    "df = pd.DataFrame(data, columns=column_names) \n",
    "df"
   ]
  },
  {
   "cell_type": "markdown",
   "id": "508f3c94",
   "metadata": {},
   "source": [
    "Тем самым была получена уже показанная ранее расширенная таблица заказов (см. \"Таблица 2\").\n",
    "\n",
    "Теперь представим эти данные графически. Для этого у `pandas` датафрейма есть встроенный метод `plot`:"
   ]
  },
  {
   "cell_type": "code",
   "execution_count": 24,
   "id": "e6f72155",
   "metadata": {},
   "outputs": [
    {
     "data": {
      "image/png": "[encoded data removed]",
      "text/plain": [
       "<Figure size 432x288 with 1 Axes>"
      ]
     },
     "metadata": {
      "needs_background": "light"
     },
     "output_type": "display_data"
    },
    {
     "data": {
      "image/png": "[encoded data removed]",
      "text/plain": [
       "<Figure size 432x288 with 1 Axes>"
      ]
     },
     "metadata": {
      "needs_background": "light"
     },
     "output_type": "display_data"
    }
   ],
   "source": [
    "df.plot(\n",
    "    x=1, y=7,\n",
    "    kind=\"bar\",\n",
    "    title=\"На какую сумму продано машин\",\n",
    "    xlabel=\"марка\",ylabel=\"сумма\", grid=True\n",
    ");\n",
    "df.plot(\n",
    "    x=1, y=5,\n",
    "    kind=\"bar\",\n",
    "    title=\"Колличество проданных машин\",\n",
    "    xlabel=\"марка\", ylabel=\"кол-во проданных шт.\",\n",
    "    color=\"red\", grid=True\n",
    ");"
   ]
  },
  {
   "cell_type": "markdown",
   "id": "d0f7da61",
   "metadata": {},
   "source": [
    "Рис. 2 (А и Б). Данные о проданных автомобилях\n",
    "\n",
    "Как видим, из–за специфики кода у нас по-прежнему два автомобиля `Skoda` и они не сгруппированы. Главная цель всех текущих действий – получить метрики по продаже конкретных марок машин, а для этого все же необходимо группировать результаты.\n",
    "\n",
    "##### Оператор GROUP BY\n",
    "\n",
    "При помощи `SQL` оператора `GROUP BY` производится указание по каким полям необходимо произвести группировку. Произведем группировку по полю `id` машины. При помощи кода ниже мы получим графическое представление метрик «количество» и «выручка» по всем маркам проданных машин:"
   ]
  },
  {
   "cell_type": "code",
   "execution_count": 25,
   "id": "15a235ed",
   "metadata": {},
   "outputs": [
    {
     "data": {
      "image/png": "[encoded data removed]",
      "text/plain": [
       "<Figure size 432x288 with 1 Axes>"
      ]
     },
     "metadata": {
      "needs_background": "light"
     },
     "output_type": "display_data"
    },
    {
     "data": {
      "image/png": "[encoded data removed]",
      "text/plain": [
       "<Figure size 432x288 with 1 Axes>"
      ]
     },
     "metadata": {
      "needs_background": "light"
     },
     "output_type": "display_data"
    }
   ],
   "source": [
    "cursor.execute(\" \\\n",
    " SELECT \\\n",
    " my_cars.name, SUM(orders.quantity) AS CarsCount, \\\n",
    "  SUM(orders.quantity * my_cars.price) as 'Сумма заказа' \\\n",
    "FROM \\\n",
    "  cars AS my_cars \\\n",
    "  LEFT JOIN orders ON orders.buyed_car_id = my_cars.id \\\n",
    "WHERE \\\n",
    "  orders.quantity * my_cars.price not null \\\n",
    "group by my_cars.id\")\n",
    "\n",
    "data = cursor.fetchall()\n",
    "df = pd.DataFrame(data)\n",
    "df.plot(\n",
    "    x=0, y=2,\n",
    "    kind=\"bar\",\n",
    "    title=\"Выручка по маркам\",\n",
    "    xlabel=\"марка\", ylabel=\"стоимость\",\n",
    "    color=\"blue\", grid=True,\n",
    ");\n",
    "df.plot(\n",
    "    x=0, y=1,\n",
    "    kind=\"bar\",\n",
    "    title=\"Колличество проданных машин\",\n",
    "    xlabel=\"марка\", ylabel=\"кол-во проданных шт.\",\n",
    "    color=\"red\", grid=True,\n",
    ");"
   ]
  },
  {
   "cell_type": "markdown",
   "id": "5667eebe",
   "metadata": {},
   "source": [
    "Рис. 3 (А и Б). Метрики о марках проданных автомобилях\n",
    "\n",
    "При помощи оператора `GROUP BY` вы бы могли создать код (посредством доработки представленного кода), чтобы группировать все записи заказов с одинаковым `id` и тем самым сформировать единый для пользователя заказ. И тогда бы вы увидели, что покупатель в одном заказе заказал разные машины. Но в наших данных таких ситуаций нет, поэтому можете поэкспериментировать самостоятельно.\n",
    "\n",
    "#### Типы данных (полей) в SQLite\n",
    "\n",
    "`SQLite` поддерживает следующие типы данных, хранимые в ячейках таблиц:\n",
    "\n",
    "-   `NULL` – пустое значение;\n",
    "\n",
    "-   `INTEGER` – целочисленное со знаком (допустимые значения от -2^63 до +2^63). Хранится в 1, 2, 3, 4, 6, или 8 байтах в зависимости от величины числа.\n",
    "\n",
    "-   `REAL` – число с плавающей точкой, хранится как 8 байт в формате `IEEE`;\n",
    "\n",
    "-   `TEXT` – текстовая строка, хранимая в соответствии с настроенной кодировкой базы данных (`UTF-8`, `UTF-16BE` или `UTF-16LE`);\n",
    "\n",
    "-   `BLOB` – это блок данных, хранящийся точно в том виде, в котором он был введен. Так называемые, бинарные данные.\n",
    "\n",
    "Используя тип `BLOB` вы можете записать в базу данных любые файлы: картинки, песни, `Exel` документы или что угодно (допустимого размера). Максимальный допустимый размер от 1 Гб до 2.1 Гб в зависимости от настроек `SQLite`.\n",
    "\n",
    "Пример ниже «прочитает» картинку `Chrysanthemum50.jpg`, которую необходимо расположить рядом с этим `Jupyter` блокнотом, и запишет её в БД, а затем прочитает (её из БД) и выведет. Обратите внимание, что код ниже использует то же соединение, что и код выше – т.е. ту же базу данных и создаст в ней таблицу `cars_img`, в поля которой запишет саму картинку и некоторые метаданные о ней (её расширение, т.е. тип, и имя)"
   ]
  },
  {
   "cell_type": "code",
   "execution_count": 26,
   "id": "4152fe78",
   "metadata": {},
   "outputs": [
    {
     "data": {
      "image/jpeg": "[encoded data removed]",
      "text/plain": [
       "<IPython.core.display.Image object>"
      ]
     },
     "execution_count": 26,
     "metadata": {},
     "output_type": "execute_result"
    }
   ],
   "source": [
    "import os\n",
    "import os.path\n",
    "from os import getcwd, listdir\n",
    "\n",
    "from IPython.core.display import Image\n",
    "\n",
    "cursor.execute(\"CREATE TABLE if not exists cars_img (ID INTEGER PRIMARY KEY AUTOINCREMENT, PICTURE BLOB, TYPE TEXT, FILE_NAME TEXT)\")\n",
    "\n",
    "def insert_picture(cursor, picture_file):\n",
    "    with open(picture_file, \"rb\") as input_file:\n",
    "        ablob = input_file.read()\n",
    "        base = os.path.basename(picture_file)\n",
    "        afile, ext = os.path.splitext(base)\n",
    "        sql = \"\"\"INSERT INTO cars_img\n",
    "        (PICTURE, TYPE, FILE_NAME)\n",
    "        VALUES(?, ?, ?);\"\"\"\n",
    "        cursor.execute(sql, [sqlite3.Binary(ablob), ext, afile])\n",
    "        cursor.commit()\n",
    "\n",
    "picture_file = \"Chrysanthemum50.jpg\"\n",
    "insert_picture(connection, picture_file)\n",
    "\n",
    "def extract_picture(cursor, picture_id):\n",
    "    sql = \"SELECT PICTURE, TYPE, FILE_NAME FROM cars_img WHERE id = :id\"\n",
    "    param = {\"id\": picture_id}\n",
    "    cursor.execute(sql, param)\n",
    "    ablob, ext, afile = cursor.fetchone()\n",
    "    filename = afile + ext\n",
    "    with open(filename, \"wb\") as output_file:\n",
    "        output_file.write(ablob)\n",
    "    return filename\n",
    "\n",
    "filename = extract_picture(cursor, 1)\n",
    "Image(filename=\"./\" + filename)"
   ]
  },
  {
   "cell_type": "markdown",
   "id": "8beaffec-3295-4e5d-aa3a-a15ad6db50eb",
   "metadata": {},
   "source": [
    "В завершение занятия закроем базу данных и удалим её, чтобы не засорять память компьютера:"
   ]
  },
  {
   "cell_type": "code",
   "execution_count": 27,
   "id": "dfe1ad27-d942-49ca-9b27-f879959eeaf1",
   "metadata": {},
   "outputs": [],
   "source": [
    "connection.close()\n",
    "\n",
    "import os\n",
    "if os.path.isfile('test.db'): # если файл существует\n",
    "    os.remove('test.db')"
   ]
  },
  {
   "cell_type": "markdown",
   "id": "8abefb09",
   "metadata": {},
   "source": [
    "## Контрольные задания и вопросы\n",
    "\n",
    "1.  СУБД `SQLite` – что такое, где применяется, ключевое отличия от `MySQL` или `PostegreSQL` (по информации из сети Интернет или других источников), какие есть типы хранимых данных.\n",
    "\n",
    "2.  В контексте использования `SQLite` – приведите пример `Python` кода, при помощи которого создаются новые таблицы, а также пример `Python` кода, выполняющего запросы на языке `SQL`.\n",
    "\n",
    "3.  Кратко опишите – что такое метрика, какие бывают и какими могут быть, приведите примеры.\n",
    "\n",
    "4.  Опишите кратко последовательность получения метрики «выручка по маркам автомобилей» и вывод её в графическом виде.\n",
    "\n",
    "5.  Попробуйте при помощи `SQL` реализовать запрос, который группирует вывод заказов по уникальному номеру заказа (по `id`). Т.е., например, чтобы можно было вывести сколько разных машин пользователь заказал одним заказом (записи в таблице заказа разные, но у них один `id` заказа). Кроме создания этого запроса убедитесь, что в таблице с заказами существуют заказы с одинаковым `id` (в таблице из занятия таких записей нет – добавьте)."
   ]
  },
  {
   "cell_type": "code",
   "execution_count": null,
   "id": "3e28308a-30cb-406c-9b55-db913ad57d44",
   "metadata": {},
   "outputs": [],
   "source": []
  }
 ],
 "metadata": {
  "kernelspec": {
   "display_name": "Python 3 (ipykernel)",
   "language": "python",
   "name": "python3"
  },
  "language_info": {
   "codemirror_mode": {
    "name": "ipython",
    "version": 3
   },
   "file_extension": ".py",
   "mimetype": "text/x-python",
   "name": "python",
   "nbconvert_exporter": "python",
   "pygments_lexer": "ipython3",
   "version": "3.8.2"
  }
 },
 "nbformat": 4,
 "nbformat_minor": 5
}
